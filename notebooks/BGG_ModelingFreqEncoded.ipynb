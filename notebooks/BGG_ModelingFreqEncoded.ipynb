{
 "cells": [
  {
   "cell_type": "markdown",
   "id": "a157dd60",
   "metadata": {},
   "source": [
    "## Note: Frequency encoding was performed in a previous notebook"
   ]
  },
  {
   "cell_type": "code",
   "execution_count": 1,
   "id": "1bb8e14c",
   "metadata": {},
   "outputs": [],
   "source": [
    "import pandas as pd\n",
    "import numpy as np\n",
    "import matplotlib.pyplot as plt\n",
    "import seaborn as sns\n"
   ]
  },
  {
   "cell_type": "code",
   "execution_count": 2,
   "id": "b093293b",
   "metadata": {},
   "outputs": [],
   "source": [
    "df = pd.read_csv('../data/in_process/Games_FreqEncodedCorrectly.csv', index_col = 'game_id')"
   ]
  },
  {
   "cell_type": "code",
   "execution_count": 3,
   "id": "aa25b32d",
   "metadata": {},
   "outputs": [],
   "source": [
    "from sklearn.preprocessing import StandardScaler\n",
    "from sklearn.model_selection import train_test_split\n"
   ]
  },
  {
   "cell_type": "code",
   "execution_count": 4,
   "id": "4d9b88a4",
   "metadata": {},
   "outputs": [
    {
     "data": {
      "text/html": [
       "<div>\n",
       "<style scoped>\n",
       "    .dataframe tbody tr th:only-of-type {\n",
       "        vertical-align: middle;\n",
       "    }\n",
       "\n",
       "    .dataframe tbody tr th {\n",
       "        vertical-align: top;\n",
       "    }\n",
       "\n",
       "    .dataframe thead th {\n",
       "        text-align: right;\n",
       "    }\n",
       "</style>\n",
       "<table border=\"1\" class=\"dataframe\">\n",
       "  <thead>\n",
       "    <tr style=\"text-align: right;\">\n",
       "      <th></th>\n",
       "      <th>min_players</th>\n",
       "      <th>max_players</th>\n",
       "      <th>avg_time</th>\n",
       "      <th>year</th>\n",
       "      <th>avg_rating</th>\n",
       "      <th>geek_rating</th>\n",
       "      <th>age</th>\n",
       "      <th>weight</th>\n",
       "      <th>Category_average</th>\n",
       "      <th>Mechanic_average</th>\n",
       "    </tr>\n",
       "    <tr>\n",
       "      <th>game_id</th>\n",
       "      <th></th>\n",
       "      <th></th>\n",
       "      <th></th>\n",
       "      <th></th>\n",
       "      <th></th>\n",
       "      <th></th>\n",
       "      <th></th>\n",
       "      <th></th>\n",
       "      <th></th>\n",
       "      <th></th>\n",
       "    </tr>\n",
       "  </thead>\n",
       "  <tbody>\n",
       "    <tr>\n",
       "      <th>286096</th>\n",
       "      <td>1</td>\n",
       "      <td>5</td>\n",
       "      <td>120.0</td>\n",
       "      <td>2019</td>\n",
       "      <td>7.49800</td>\n",
       "      <td>7.14207</td>\n",
       "      <td>12</td>\n",
       "      <td>2.8564</td>\n",
       "      <td>0.013835</td>\n",
       "      <td>0.031744</td>\n",
       "    </tr>\n",
       "    <tr>\n",
       "      <th>287954</th>\n",
       "      <td>2</td>\n",
       "      <td>4</td>\n",
       "      <td>45.0</td>\n",
       "      <td>2019</td>\n",
       "      <td>7.84646</td>\n",
       "      <td>7.01513</td>\n",
       "      <td>8</td>\n",
       "      <td>2.0132</td>\n",
       "      <td>0.018537</td>\n",
       "      <td>0.028841</td>\n",
       "    </tr>\n",
       "  </tbody>\n",
       "</table>\n",
       "</div>"
      ],
      "text/plain": [
       "         min_players  max_players  avg_time  year  avg_rating  geek_rating  \\\n",
       "game_id                                                                      \n",
       "286096             1            5     120.0  2019     7.49800      7.14207   \n",
       "287954             2            4      45.0  2019     7.84646      7.01513   \n",
       "\n",
       "         age  weight  Category_average  Mechanic_average  \n",
       "game_id                                                   \n",
       "286096    12  2.8564          0.013835          0.031744  \n",
       "287954     8  2.0132          0.018537          0.028841  "
      ]
     },
     "execution_count": 4,
     "metadata": {},
     "output_type": "execute_result"
    }
   ],
   "source": [
    "df.tail(2)"
   ]
  },
  {
   "cell_type": "code",
   "execution_count": 5,
   "id": "3592d004",
   "metadata": {},
   "outputs": [
    {
     "data": {
      "text/plain": [
       "(3836, 10)"
      ]
     },
     "execution_count": 5,
     "metadata": {},
     "output_type": "execute_result"
    }
   ],
   "source": [
    "df.shape"
   ]
  },
  {
   "cell_type": "code",
   "execution_count": 6,
   "id": "688ebf66",
   "metadata": {},
   "outputs": [],
   "source": [
    "#Dependant variables are average rating and \"geek rating\"\n",
    "#These are two different rating scales. They should be rather similar, so we'll use Average Rating for now\n",
    "#The rest are possible inputs\n",
    "\n",
    "X = df.drop(['avg_rating', 'geek_rating'], axis = 1)\n",
    "y = df['avg_rating']\n",
    "y2 = df['geek_rating']\n",
    "X_train, X_test, y_train, y_test = train_test_split(X, y, test_size = .25, random_state = 42)\n"
   ]
  },
  {
   "cell_type": "code",
   "execution_count": 7,
   "id": "c117be18",
   "metadata": {},
   "outputs": [
    {
     "data": {
      "text/html": [
       "<div>\n",
       "<style scoped>\n",
       "    .dataframe tbody tr th:only-of-type {\n",
       "        vertical-align: middle;\n",
       "    }\n",
       "\n",
       "    .dataframe tbody tr th {\n",
       "        vertical-align: top;\n",
       "    }\n",
       "\n",
       "    .dataframe thead th {\n",
       "        text-align: right;\n",
       "    }\n",
       "</style>\n",
       "<table border=\"1\" class=\"dataframe\">\n",
       "  <thead>\n",
       "    <tr style=\"text-align: right;\">\n",
       "      <th></th>\n",
       "      <th>min_players</th>\n",
       "      <th>max_players</th>\n",
       "      <th>avg_time</th>\n",
       "      <th>year</th>\n",
       "      <th>age</th>\n",
       "      <th>weight</th>\n",
       "      <th>Category_average</th>\n",
       "      <th>Mechanic_average</th>\n",
       "    </tr>\n",
       "    <tr>\n",
       "      <th>game_id</th>\n",
       "      <th></th>\n",
       "      <th></th>\n",
       "      <th></th>\n",
       "      <th></th>\n",
       "      <th></th>\n",
       "      <th></th>\n",
       "      <th></th>\n",
       "      <th></th>\n",
       "    </tr>\n",
       "  </thead>\n",
       "  <tbody>\n",
       "    <tr>\n",
       "      <th>404</th>\n",
       "      <td>3</td>\n",
       "      <td>5</td>\n",
       "      <td>20.0</td>\n",
       "      <td>1994</td>\n",
       "      <td>7</td>\n",
       "      <td>1.1000</td>\n",
       "      <td>0.015402</td>\n",
       "      <td>0.017737</td>\n",
       "    </tr>\n",
       "    <tr>\n",
       "      <th>53093</th>\n",
       "      <td>2</td>\n",
       "      <td>2</td>\n",
       "      <td>60.0</td>\n",
       "      <td>2014</td>\n",
       "      <td>14</td>\n",
       "      <td>2.7537</td>\n",
       "      <td>0.011936</td>\n",
       "      <td>0.036353</td>\n",
       "    </tr>\n",
       "    <tr>\n",
       "      <th>3510</th>\n",
       "      <td>2</td>\n",
       "      <td>8</td>\n",
       "      <td>45.0</td>\n",
       "      <td>1997</td>\n",
       "      <td>12</td>\n",
       "      <td>1.0833</td>\n",
       "      <td>0.013564</td>\n",
       "      <td>0.014735</td>\n",
       "    </tr>\n",
       "    <tr>\n",
       "      <th>1705</th>\n",
       "      <td>2</td>\n",
       "      <td>10</td>\n",
       "      <td>30.0</td>\n",
       "      <td>1982</td>\n",
       "      <td>8</td>\n",
       "      <td>1.3211</td>\n",
       "      <td>0.056741</td>\n",
       "      <td>0.014539</td>\n",
       "    </tr>\n",
       "    <tr>\n",
       "      <th>24480</th>\n",
       "      <td>2</td>\n",
       "      <td>4</td>\n",
       "      <td>120.0</td>\n",
       "      <td>2006</td>\n",
       "      <td>12</td>\n",
       "      <td>2.8244</td>\n",
       "      <td>0.019916</td>\n",
       "      <td>0.004644</td>\n",
       "    </tr>\n",
       "  </tbody>\n",
       "</table>\n",
       "</div>"
      ],
      "text/plain": [
       "         min_players  max_players  avg_time  year  age  weight  \\\n",
       "game_id                                                          \n",
       "404                3            5      20.0  1994    7  1.1000   \n",
       "53093              2            2      60.0  2014   14  2.7537   \n",
       "3510               2            8      45.0  1997   12  1.0833   \n",
       "1705               2           10      30.0  1982    8  1.3211   \n",
       "24480              2            4     120.0  2006   12  2.8244   \n",
       "\n",
       "         Category_average  Mechanic_average  \n",
       "game_id                                      \n",
       "404              0.015402          0.017737  \n",
       "53093            0.011936          0.036353  \n",
       "3510             0.013564          0.014735  \n",
       "1705             0.056741          0.014539  \n",
       "24480            0.019916          0.004644  "
      ]
     },
     "execution_count": 7,
     "metadata": {},
     "output_type": "execute_result"
    }
   ],
   "source": [
    "X_train.head()"
   ]
  },
  {
   "cell_type": "code",
   "execution_count": 8,
   "id": "4bd1b8e8",
   "metadata": {},
   "outputs": [
    {
     "data": {
      "text/html": [
       "<div>\n",
       "<style scoped>\n",
       "    .dataframe tbody tr th:only-of-type {\n",
       "        vertical-align: middle;\n",
       "    }\n",
       "\n",
       "    .dataframe tbody tr th {\n",
       "        vertical-align: top;\n",
       "    }\n",
       "\n",
       "    .dataframe thead th {\n",
       "        text-align: right;\n",
       "    }\n",
       "</style>\n",
       "<table border=\"1\" class=\"dataframe\">\n",
       "  <thead>\n",
       "    <tr style=\"text-align: right;\">\n",
       "      <th></th>\n",
       "      <th>min_players</th>\n",
       "      <th>max_players</th>\n",
       "      <th>avg_time</th>\n",
       "      <th>year</th>\n",
       "      <th>age</th>\n",
       "      <th>weight</th>\n",
       "      <th>Category_average</th>\n",
       "      <th>Mechanic_average</th>\n",
       "    </tr>\n",
       "    <tr>\n",
       "      <th>game_id</th>\n",
       "      <th></th>\n",
       "      <th></th>\n",
       "      <th></th>\n",
       "      <th></th>\n",
       "      <th></th>\n",
       "      <th></th>\n",
       "      <th></th>\n",
       "      <th></th>\n",
       "    </tr>\n",
       "  </thead>\n",
       "  <tbody>\n",
       "    <tr>\n",
       "      <th>19995</th>\n",
       "      <td>0.002060</td>\n",
       "      <td>-0.058063</td>\n",
       "      <td>0.044059</td>\n",
       "      <td>-0.191676</td>\n",
       "      <td>0.530695</td>\n",
       "      <td>0.871417</td>\n",
       "      <td>-1.005327</td>\n",
       "      <td>-0.627138</td>\n",
       "    </tr>\n",
       "    <tr>\n",
       "      <th>27389</th>\n",
       "      <td>0.002060</td>\n",
       "      <td>0.365198</td>\n",
       "      <td>-0.237885</td>\n",
       "      <td>-0.191676</td>\n",
       "      <td>0.530695</td>\n",
       "      <td>-1.123985</td>\n",
       "      <td>-0.735653</td>\n",
       "      <td>0.879450</td>\n",
       "    </tr>\n",
       "    <tr>\n",
       "      <th>8229</th>\n",
       "      <td>0.002060</td>\n",
       "      <td>-0.199150</td>\n",
       "      <td>-0.237885</td>\n",
       "      <td>-0.474665</td>\n",
       "      <td>-1.115016</td>\n",
       "      <td>-0.325080</td>\n",
       "      <td>-0.327719</td>\n",
       "      <td>-0.776208</td>\n",
       "    </tr>\n",
       "    <tr>\n",
       "      <th>232043</th>\n",
       "      <td>0.002060</td>\n",
       "      <td>-0.199150</td>\n",
       "      <td>-0.261380</td>\n",
       "      <td>0.845952</td>\n",
       "      <td>-1.115016</td>\n",
       "      <td>-0.149143</td>\n",
       "      <td>-0.096716</td>\n",
       "      <td>-0.827833</td>\n",
       "    </tr>\n",
       "    <tr>\n",
       "      <th>199383</th>\n",
       "      <td>1.484016</td>\n",
       "      <td>-0.058063</td>\n",
       "      <td>-0.026427</td>\n",
       "      <td>0.845952</td>\n",
       "      <td>-0.292161</td>\n",
       "      <td>0.828653</td>\n",
       "      <td>-0.241478</td>\n",
       "      <td>0.001218</td>\n",
       "    </tr>\n",
       "  </tbody>\n",
       "</table>\n",
       "</div>"
      ],
      "text/plain": [
       "         min_players  max_players  avg_time      year       age    weight  \\\n",
       "game_id                                                                     \n",
       "19995       0.002060    -0.058063  0.044059 -0.191676  0.530695  0.871417   \n",
       "27389       0.002060     0.365198 -0.237885 -0.191676  0.530695 -1.123985   \n",
       "8229        0.002060    -0.199150 -0.237885 -0.474665 -1.115016 -0.325080   \n",
       "232043      0.002060    -0.199150 -0.261380  0.845952 -1.115016 -0.149143   \n",
       "199383      1.484016    -0.058063 -0.026427  0.845952 -0.292161  0.828653   \n",
       "\n",
       "         Category_average  Mechanic_average  \n",
       "game_id                                      \n",
       "19995           -1.005327         -0.627138  \n",
       "27389           -0.735653          0.879450  \n",
       "8229            -0.327719         -0.776208  \n",
       "232043          -0.096716         -0.827833  \n",
       "199383          -0.241478          0.001218  "
      ]
     },
     "execution_count": 8,
     "metadata": {},
     "output_type": "execute_result"
    }
   ],
   "source": [
    "#Scale just the training set.\n",
    "#XScaled = X_train.iloc[:,:6]\n",
    "col_names = X_train.columns\n",
    "#XCats = X_train.iloc[:,6:] #columns with categorical variables\n",
    "scaler = StandardScaler()\n",
    "XScaled = scaler.fit_transform(X_train)\n",
    "X_train = pd.DataFrame(XScaled, columns = col_names, index = X_train.index)\n",
    "#X_train = X_train.join(XCats, how = 'left') #merge the scaled columns with the encoded columns\n",
    "X_train.tail()"
   ]
  },
  {
   "cell_type": "code",
   "execution_count": 9,
   "id": "f67c8fb4",
   "metadata": {},
   "outputs": [
    {
     "data": {
      "text/html": [
       "<div>\n",
       "<style scoped>\n",
       "    .dataframe tbody tr th:only-of-type {\n",
       "        vertical-align: middle;\n",
       "    }\n",
       "\n",
       "    .dataframe tbody tr th {\n",
       "        vertical-align: top;\n",
       "    }\n",
       "\n",
       "    .dataframe thead th {\n",
       "        text-align: right;\n",
       "    }\n",
       "</style>\n",
       "<table border=\"1\" class=\"dataframe\">\n",
       "  <thead>\n",
       "    <tr style=\"text-align: right;\">\n",
       "      <th></th>\n",
       "      <th>min_players</th>\n",
       "      <th>max_players</th>\n",
       "      <th>avg_time</th>\n",
       "      <th>year</th>\n",
       "      <th>age</th>\n",
       "      <th>weight</th>\n",
       "      <th>Category_average</th>\n",
       "      <th>Mechanic_average</th>\n",
       "    </tr>\n",
       "    <tr>\n",
       "      <th>game_id</th>\n",
       "      <th></th>\n",
       "      <th></th>\n",
       "      <th></th>\n",
       "      <th></th>\n",
       "      <th></th>\n",
       "      <th></th>\n",
       "      <th></th>\n",
       "      <th></th>\n",
       "    </tr>\n",
       "  </thead>\n",
       "  <tbody>\n",
       "    <tr>\n",
       "      <th>21985</th>\n",
       "      <td>0.002060</td>\n",
       "      <td>-0.058063</td>\n",
       "      <td>-0.237885</td>\n",
       "      <td>-0.191676</td>\n",
       "      <td>-1.937872</td>\n",
       "      <td>-1.318928</td>\n",
       "      <td>-0.724701</td>\n",
       "      <td>-1.498649</td>\n",
       "    </tr>\n",
       "    <tr>\n",
       "      <th>1855</th>\n",
       "      <td>1.484016</td>\n",
       "      <td>0.647372</td>\n",
       "      <td>-0.096913</td>\n",
       "      <td>-1.606623</td>\n",
       "      <td>-1.115016</td>\n",
       "      <td>-1.446321</td>\n",
       "      <td>-0.387266</td>\n",
       "      <td>-1.498649</td>\n",
       "    </tr>\n",
       "    <tr>\n",
       "      <th>3655</th>\n",
       "      <td>0.002060</td>\n",
       "      <td>-0.199150</td>\n",
       "      <td>-0.096913</td>\n",
       "      <td>-0.568995</td>\n",
       "      <td>-1.526444</td>\n",
       "      <td>0.136465</td>\n",
       "      <td>-0.909504</td>\n",
       "      <td>1.102444</td>\n",
       "    </tr>\n",
       "    <tr>\n",
       "      <th>126239</th>\n",
       "      <td>0.002060</td>\n",
       "      <td>0.083024</td>\n",
       "      <td>-0.143904</td>\n",
       "      <td>0.468633</td>\n",
       "      <td>-0.292161</td>\n",
       "      <td>0.242540</td>\n",
       "      <td>-0.576586</td>\n",
       "      <td>-1.266490</td>\n",
       "    </tr>\n",
       "    <tr>\n",
       "      <th>210232</th>\n",
       "      <td>-1.479895</td>\n",
       "      <td>-0.199150</td>\n",
       "      <td>1.312806</td>\n",
       "      <td>0.845952</td>\n",
       "      <td>-0.292161</td>\n",
       "      <td>1.682908</td>\n",
       "      <td>0.219843</td>\n",
       "      <td>-0.026656</td>\n",
       "    </tr>\n",
       "  </tbody>\n",
       "</table>\n",
       "</div>"
      ],
      "text/plain": [
       "         min_players  max_players  avg_time      year       age    weight  \\\n",
       "game_id                                                                     \n",
       "21985       0.002060    -0.058063 -0.237885 -0.191676 -1.937872 -1.318928   \n",
       "1855        1.484016     0.647372 -0.096913 -1.606623 -1.115016 -1.446321   \n",
       "3655        0.002060    -0.199150 -0.096913 -0.568995 -1.526444  0.136465   \n",
       "126239      0.002060     0.083024 -0.143904  0.468633 -0.292161  0.242540   \n",
       "210232     -1.479895    -0.199150  1.312806  0.845952 -0.292161  1.682908   \n",
       "\n",
       "         Category_average  Mechanic_average  \n",
       "game_id                                      \n",
       "21985           -0.724701         -1.498649  \n",
       "1855            -0.387266         -1.498649  \n",
       "3655            -0.909504          1.102444  \n",
       "126239          -0.576586         -1.266490  \n",
       "210232           0.219843         -0.026656  "
      ]
     },
     "execution_count": 9,
     "metadata": {},
     "output_type": "execute_result"
    }
   ],
   "source": [
    "#Now we need to scale the Test Set using the same scaler we used on the training set\n",
    "#Scale just the first 6 columns of test set. The rest are categorical\n",
    "#XScaled = X_test.iloc[:,:6]\n",
    "col_names = X_test.columns\n",
    "#XCats = X_test.iloc[:,6:] #columns with categorical variables\n",
    "XScaled = scaler.transform(X_test)\n",
    "X_test = pd.DataFrame(XScaled, columns = col_names, index = X_test.index)\n",
    "#X_test = X_test.join(XCats, how = 'left') #merge the scaled columns with the hot encoded columns\n",
    "X_test.tail()\n"
   ]
  },
  {
   "cell_type": "code",
   "execution_count": 10,
   "id": "964b9421",
   "metadata": {},
   "outputs": [],
   "source": [
    "from sklearn.model_selection import GridSearchCV, RandomizedSearchCV\n",
    "from sklearn.linear_model import LinearRegression, Lasso, LassoCV, RidgeCV\n",
    "from sklearn.metrics import mean_squared_error, r2_score\n",
    "from sklearn.ensemble import RandomForestRegressor"
   ]
  },
  {
   "cell_type": "markdown",
   "id": "60b2cbf7",
   "metadata": {},
   "source": [
    "### Trying models on scaled and frequency encoded data"
   ]
  },
  {
   "cell_type": "code",
   "execution_count": 11,
   "id": "2c9384da",
   "metadata": {},
   "outputs": [
    {
     "name": "stdout",
     "output_type": "stream",
     "text": [
      "MSE =  0.23904895765080297\n",
      "R^2 =  0.49684836812487687\n"
     ]
    }
   ],
   "source": [
    "#Trying a strait linear regression on all columns as a reference\n",
    "lm = LinearRegression()\n",
    "lm.fit(X_train, y_train)\n",
    "y_pred = lm.predict(X_test)\n",
    "\n",
    "print('MSE = ', mean_squared_error(y_test, y_pred))\n",
    "print('R^2 = ', r2_score(y_test, y_pred))"
   ]
  },
  {
   "cell_type": "code",
   "execution_count": 12,
   "id": "41ac0740",
   "metadata": {},
   "outputs": [
    {
     "name": "stdout",
     "output_type": "stream",
     "text": [
      "MSE =  0.23815921455635802\n",
      "R^2 =  0.4987211045480725\n"
     ]
    }
   ],
   "source": [
    "#Lasso Regression performed with .01 as reference\n",
    "alpha = .01\n",
    "lassom = Lasso(alpha = alpha)\n",
    "\n",
    "lassom.fit(X_train, y_train)\n",
    "y_pred_lasso = lassom.predict(X_test)\n",
    "\n",
    "print('MSE = ', mean_squared_error(y_test, y_pred_lasso))\n",
    "print('R^2 = ', r2_score(y_test, y_pred_lasso))"
   ]
  },
  {
   "cell_type": "code",
   "execution_count": 13,
   "id": "f8d67da2",
   "metadata": {
    "scrolled": false
   },
   "outputs": [
    {
     "name": "stdout",
     "output_type": "stream",
     "text": [
      "  (0, 0)\t-0.021334941491623842\n",
      "  (0, 2)\t0.006972545064107222\n",
      "  (0, 3)\t0.2615293157798346\n",
      "  (0, 4)\t0.008509052234487545\n",
      "  (0, 5)\t0.35645833640320373\n",
      "  (0, 7)\t-0.049638859469419955\n"
     ]
    },
    {
     "data": {
      "text/plain": [
       "weight              0.356458\n",
       "year                0.261529\n",
       "age                 0.008509\n",
       "avg_time            0.006973\n",
       "max_players        -0.000000\n",
       "Category_average    0.000000\n",
       "min_players        -0.021335\n",
       "Mechanic_average   -0.049639\n",
       "dtype: float64"
      ]
     },
     "execution_count": 13,
     "metadata": {},
     "output_type": "execute_result"
    }
   ],
   "source": [
    "print(lassom.sparse_coef_)\n",
    "bestCoefs = lassom.coef_\n",
    "features = X_train.columns\n",
    "pd.Series(bestCoefs, index=features).sort_values(ascending=False)"
   ]
  },
  {
   "cell_type": "code",
   "execution_count": 14,
   "id": "11192743",
   "metadata": {},
   "outputs": [
    {
     "name": "stdout",
     "output_type": "stream",
     "text": [
      "0.006152578677625733\n"
     ]
    },
    {
     "data": {
      "text/plain": [
       "weight              0.357083\n",
       "year                0.264933\n",
       "age                 0.010490\n",
       "avg_time            0.010460\n",
       "Category_average    0.001189\n",
       "max_players        -0.001334\n",
       "min_players        -0.024470\n",
       "Mechanic_average   -0.054061\n",
       "dtype: float64"
      ]
     },
     "execution_count": 14,
     "metadata": {},
     "output_type": "execute_result"
    }
   ],
   "source": [
    "#Finding the best coefficient for Alpha\n",
    "lassoc = LassoCV()\n",
    "lassoc.fit(X_train,y_train)\n",
    "print(lassoc.alpha_)\n",
    "pd.Series(lassoc.coef_, index=features).sort_values(ascending=False)\n"
   ]
  },
  {
   "cell_type": "code",
   "execution_count": 15,
   "id": "270860cc",
   "metadata": {},
   "outputs": [],
   "source": [
    "y_pred_lassoc = lassoc.predict(X_test)"
   ]
  },
  {
   "cell_type": "code",
   "execution_count": 16,
   "id": "5d5c6b13",
   "metadata": {},
   "outputs": [
    {
     "name": "stdout",
     "output_type": "stream",
     "text": [
      "MSE lassoCV =  0.2382827860368411\n",
      "R^2 lassoCV =  0.4984610105795846\n"
     ]
    }
   ],
   "source": [
    "print('MSE lassoCV = ', mean_squared_error(y_test, y_pred_lassoc))\n",
    "print('R^2 lassoCV = ', r2_score(y_test, y_pred_lassoc))"
   ]
  },
  {
   "cell_type": "code",
   "execution_count": 17,
   "id": "3c3c36e3",
   "metadata": {},
   "outputs": [
    {
     "name": "stdout",
     "output_type": "stream",
     "text": [
      "Best Score:0.48478841863905486\n",
      "Best Parameters: {'alpha': 0.006}\n"
     ]
    }
   ],
   "source": [
    "#Using grid search as an alternate to find best Alpha for Lasso Regression\n",
    "param_grid = {'alpha':np.arange(.004, .051, .001)}\n",
    "lassom2 = Lasso()\n",
    "lasso_cv = GridSearchCV(lassom2,param_grid,cv=5, n_jobs =-1)\n",
    "lasso_cv.fit(X_train,y_train)\n",
    "\n",
    "print(\"Best Score:\" + str(lasso_cv.best_score_))\n",
    "print(\"Best Parameters: \" + str(lasso_cv.best_params_))"
   ]
  },
  {
   "cell_type": "code",
   "execution_count": 25,
   "id": "a5a56e46",
   "metadata": {},
   "outputs": [
    {
     "data": {
      "text/plain": [
       "{'n_estimators': 7}"
      ]
     },
     "execution_count": 25,
     "metadata": {},
     "output_type": "execute_result"
    }
   ],
   "source": [
    "#Trying a random forest regression\n",
    "rf = RandomForestRegressor(random_state = 42)\n",
    "rf_param_grid = {'n_estimators':list(np.arange(1, 8))}\n",
    "rfcv = GridSearchCV(rf, rf_param_grid, n_jobs = -1)\n",
    "search = rfcv.fit(X_train, y_train)\n",
    "search.best_params_"
   ]
  },
  {
   "cell_type": "code",
   "execution_count": 26,
   "id": "83988a46",
   "metadata": {},
   "outputs": [
    {
     "name": "stdout",
     "output_type": "stream",
     "text": [
      "RandomForestRegressor(n_estimators=7, random_state=42)\n",
      "0.4741338997382617\n",
      "6\n"
     ]
    }
   ],
   "source": [
    "print(search.best_estimator_)\n",
    "print(search.best_score_)\n",
    "print(search.best_index_)"
   ]
  },
  {
   "cell_type": "code",
   "execution_count": 27,
   "id": "e3d8b170",
   "metadata": {
    "scrolled": true
   },
   "outputs": [
    {
     "name": "stdout",
     "output_type": "stream",
     "text": [
      "MSE =  0.24622187104665785\n",
      "R^2 =  0.4817507784265551\n"
     ]
    }
   ],
   "source": [
    "y_pred_rf = search.predict(X_test)\n",
    "print('MSE = ', mean_squared_error(y_test, y_pred_rf))\n",
    "print('R^2 = ', r2_score(y_test, y_pred_rf))"
   ]
  },
  {
   "cell_type": "code",
   "execution_count": 21,
   "id": "70be09af",
   "metadata": {},
   "outputs": [],
   "source": [
    "y_pred_lassocv = lasso_cv.predict(X_test)"
   ]
  },
  {
   "cell_type": "code",
   "execution_count": 22,
   "id": "89d0c601",
   "metadata": {},
   "outputs": [
    {
     "name": "stdout",
     "output_type": "stream",
     "text": [
      "1.0\n",
      "-0.2525520595509226\n"
     ]
    },
    {
     "data": {
      "text/plain": [
       "weight              0.359340\n",
       "year                0.269700\n",
       "avg_time            0.016254\n",
       "age                 0.013141\n",
       "Category_average    0.009994\n",
       "max_players        -0.006575\n",
       "min_players        -0.029338\n",
       "Mechanic_average   -0.062645\n",
       "dtype: float64"
      ]
     },
     "execution_count": 22,
     "metadata": {},
     "output_type": "execute_result"
    }
   ],
   "source": [
    "ridgemodel = RidgeCV(alphas = [.0001, .001, .01, 1])\n",
    "ridgemodel.fit(X_train, y_train)\n",
    "print(ridgemodel.alpha_)\n",
    "print(ridgemodel.best_score_)\n",
    "pd.Series(ridgemodel.coef_, index=features).sort_values(ascending=False)"
   ]
  },
  {
   "cell_type": "code",
   "execution_count": 23,
   "id": "6f629398",
   "metadata": {},
   "outputs": [],
   "source": [
    "y_pred_ridge = ridgemodel.predict(X_test)\n"
   ]
  },
  {
   "cell_type": "code",
   "execution_count": 28,
   "id": "4737eb15",
   "metadata": {},
   "outputs": [
    {
     "name": "stdout",
     "output_type": "stream",
     "text": [
      "MSE simple linear =  0.23904895765080297\n",
      "R^2 simple linear =  0.49684836812487687\n",
      "MSE RF =  0.24622187104665785\n",
      "R^2 RF =  0.4817507784265551\n",
      "MSE LassoCV =  0.2382930217628136\n",
      "R^2 LassoCV =  0.4984394663642192\n",
      "MSE lasso grid search =  0.2382827860368411\n",
      "R^2 lasso grid search =  0.4984610105795846\n",
      "MSE RidgeCV =  0.2390464745676192\n",
      "R^2 RidgeCV =  0.496853594532757\n"
     ]
    }
   ],
   "source": [
    "print('MSE simple linear = ', mean_squared_error(y_test, y_pred))\n",
    "print('R^2 simple linear = ', r2_score(y_test, y_pred))\n",
    "print('MSE RF = ', mean_squared_error(y_test, y_pred_rf))\n",
    "print('R^2 RF = ', r2_score(y_test, y_pred_rf))\n",
    "print('MSE LassoCV = ', mean_squared_error(y_test, y_pred_lassocv))\n",
    "print('R^2 LassoCV = ', r2_score(y_test, y_pred_lassocv))\n",
    "print('MSE lasso grid search = ', mean_squared_error(y_test, y_pred_lassoc))\n",
    "print('R^2 lasso grid search = ', r2_score(y_test, y_pred_lassoc))\n",
    "print('MSE RidgeCV = ', mean_squared_error(y_test, y_pred_ridge))\n",
    "print('R^2 RidgeCV = ', r2_score(y_test, y_pred_ridge))"
   ]
  },
  {
   "cell_type": "markdown",
   "id": "0ea6c4e8",
   "metadata": {},
   "source": [
    "Lasso regression eliminates two of the factors. It also has the best MSE and R-squared.\n",
    "\n"
   ]
  },
  {
   "cell_type": "markdown",
   "id": "e5efe482",
   "metadata": {},
   "source": [
    "It may have been incorrect to scale the categorical frequencies. Running Lasso and Ridge again on unscaled values."
   ]
  }
 ],
 "metadata": {
  "kernelspec": {
   "display_name": "Python 3",
   "language": "python",
   "name": "python3"
  },
  "language_info": {
   "codemirror_mode": {
    "name": "ipython",
    "version": 3
   },
   "file_extension": ".py",
   "mimetype": "text/x-python",
   "name": "python",
   "nbconvert_exporter": "python",
   "pygments_lexer": "ipython3",
   "version": "3.8.5"
  }
 },
 "nbformat": 4,
 "nbformat_minor": 5
}
