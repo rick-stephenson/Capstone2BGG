{
 "cells": [
  {
   "cell_type": "code",
   "execution_count": 1,
   "id": "1736ab08",
   "metadata": {},
   "outputs": [],
   "source": [
    "import pandas as pd\n",
    "import numpy as np\n",
    "import matplotlib.pyplot as plt\n",
    "import seaborn as sns"
   ]
  },
  {
   "cell_type": "code",
   "execution_count": 2,
   "id": "36fd0815",
   "metadata": {},
   "outputs": [],
   "source": [
    "df = pd.read_csv('../data/in_process/Games_cleaned.csv', index_col = 'game_id')"
   ]
  },
  {
   "cell_type": "code",
   "execution_count": 4,
   "id": "084211a9",
   "metadata": {},
   "outputs": [],
   "source": [
    "df = df.drop(['names', 'geek_rating', 'num_votes','mechanic', 'category', 'expands', 'owned', 'designer', 'publisher'], axis = 1)"
   ]
  },
  {
   "cell_type": "code",
   "execution_count": 8,
   "id": "f5c8ba20",
   "metadata": {
    "scrolled": true
   },
   "outputs": [
    {
     "name": "stdout",
     "output_type": "stream",
     "text": [
      "<class 'pandas.core.frame.DataFrame'>\n",
      "Int64Index: 3836 entries, 1 to 287954\n",
      "Data columns (total 16 columns):\n",
      " #   Column       Non-Null Count  Dtype  \n",
      "---  ------       --------------  -----  \n",
      " 0   min_players  3836 non-null   int64  \n",
      " 1   max_players  3836 non-null   int64  \n",
      " 2   avg_time     3836 non-null   float64\n",
      " 3   year         3836 non-null   int64  \n",
      " 4   avg_rating   3836 non-null   float64\n",
      " 5   age          3836 non-null   int64  \n",
      " 6   weight       3836 non-null   float64\n",
      " 7   Category_1   3836 non-null   object \n",
      " 8   Category_2   3836 non-null   object \n",
      " 9   Category_3   3836 non-null   object \n",
      " 10  Category_4   3836 non-null   object \n",
      " 11  Mechanic_1   3836 non-null   object \n",
      " 12  Mechanic_2   3836 non-null   object \n",
      " 13  Mechanic_3   3836 non-null   object \n",
      " 14  Mechanic_4   3836 non-null   object \n",
      " 15  Mechanic_5   3836 non-null   object \n",
      "dtypes: float64(3), int64(4), object(9)\n",
      "memory usage: 509.5+ KB\n"
     ]
    }
   ],
   "source": [
    "df.info()"
   ]
  },
  {
   "cell_type": "code",
   "execution_count": 9,
   "id": "c725c8da",
   "metadata": {},
   "outputs": [],
   "source": [
    "df.fillna(value=0, inplace = True)"
   ]
  },
  {
   "cell_type": "code",
   "execution_count": null,
   "id": "33eca7cf",
   "metadata": {},
   "outputs": [],
   "source": []
  }
 ],
 "metadata": {
  "kernelspec": {
   "display_name": "Python 3",
   "language": "python",
   "name": "python3"
  },
  "language_info": {
   "codemirror_mode": {
    "name": "ipython",
    "version": 3
   },
   "file_extension": ".py",
   "mimetype": "text/x-python",
   "name": "python",
   "nbconvert_exporter": "python",
   "pygments_lexer": "ipython3",
   "version": "3.8.5"
  }
 },
 "nbformat": 4,
 "nbformat_minor": 5
}
