{
 "cells": [
  {
   "cell_type": "code",
   "execution_count": 1,
   "id": "italian-massachusetts",
   "metadata": {},
   "outputs": [],
   "source": [
    "import pandas as pd\n",
    "import numpy as np\n",
    "import matplotlib.pyplot as plt\n",
    "import seaborn as sns"
   ]
  },
  {
   "cell_type": "code",
   "execution_count": 2,
   "id": "secret-surprise",
   "metadata": {},
   "outputs": [],
   "source": [
    "df = pd.read_csv('../data/in_process/Popular_Games_expanded.csv', index_col = 'game_id')\n",
    "dfgood = pd.read_csv('../data/in_process/Popular_Games.csv', index_col = 'game_id')"
   ]
  },
  {
   "cell_type": "code",
   "execution_count": 3,
   "id": "final-engineering",
   "metadata": {},
   "outputs": [
    {
     "data": {
      "text/html": [
       "<div>\n",
       "<style scoped>\n",
       "    .dataframe tbody tr th:only-of-type {\n",
       "        vertical-align: middle;\n",
       "    }\n",
       "\n",
       "    .dataframe tbody tr th {\n",
       "        vertical-align: top;\n",
       "    }\n",
       "\n",
       "    .dataframe thead th {\n",
       "        text-align: right;\n",
       "    }\n",
       "</style>\n",
       "<table border=\"1\" class=\"dataframe\">\n",
       "  <thead>\n",
       "    <tr style=\"text-align: right;\">\n",
       "      <th></th>\n",
       "      <th>min_players</th>\n",
       "      <th>max_players</th>\n",
       "      <th>avg_time</th>\n",
       "      <th>year</th>\n",
       "      <th>avg_rating</th>\n",
       "      <th>geek_rating</th>\n",
       "      <th>num_votes</th>\n",
       "      <th>age</th>\n",
       "      <th>owned</th>\n",
       "      <th>weight</th>\n",
       "    </tr>\n",
       "  </thead>\n",
       "  <tbody>\n",
       "    <tr>\n",
       "      <th>count</th>\n",
       "      <td>4768.000000</td>\n",
       "      <td>4768.000000</td>\n",
       "      <td>4768.000000</td>\n",
       "      <td>4768.000000</td>\n",
       "      <td>4768.000000</td>\n",
       "      <td>4768.000000</td>\n",
       "      <td>4768.000000</td>\n",
       "      <td>4768.000000</td>\n",
       "      <td>4768.000000</td>\n",
       "      <td>4768.000000</td>\n",
       "    </tr>\n",
       "    <tr>\n",
       "      <th>mean</th>\n",
       "      <td>1.998951</td>\n",
       "      <td>5.466862</td>\n",
       "      <td>82.654308</td>\n",
       "      <td>1996.456586</td>\n",
       "      <td>6.950445</td>\n",
       "      <td>6.245841</td>\n",
       "      <td>3084.935612</td>\n",
       "      <td>10.657508</td>\n",
       "      <td>5277.257550</td>\n",
       "      <td>2.273101</td>\n",
       "    </tr>\n",
       "    <tr>\n",
       "      <th>std</th>\n",
       "      <td>0.699575</td>\n",
       "      <td>7.197982</td>\n",
       "      <td>246.712028</td>\n",
       "      <td>175.123777</td>\n",
       "      <td>0.771389</td>\n",
       "      <td>0.539750</td>\n",
       "      <td>6084.947744</td>\n",
       "      <td>2.741033</td>\n",
       "      <td>8597.807335</td>\n",
       "      <td>0.776210</td>\n",
       "    </tr>\n",
       "    <tr>\n",
       "      <th>min</th>\n",
       "      <td>0.000000</td>\n",
       "      <td>0.000000</td>\n",
       "      <td>1.000000</td>\n",
       "      <td>-3500.000000</td>\n",
       "      <td>2.266230</td>\n",
       "      <td>3.526090</td>\n",
       "      <td>500.000000</td>\n",
       "      <td>0.000000</td>\n",
       "      <td>263.000000</td>\n",
       "      <td>1.000000</td>\n",
       "    </tr>\n",
       "    <tr>\n",
       "      <th>25%</th>\n",
       "      <td>2.000000</td>\n",
       "      <td>4.000000</td>\n",
       "      <td>30.000000</td>\n",
       "      <td>2004.000000</td>\n",
       "      <td>6.485913</td>\n",
       "      <td>5.874825</td>\n",
       "      <td>750.000000</td>\n",
       "      <td>8.000000</td>\n",
       "      <td>1616.750000</td>\n",
       "      <td>1.673400</td>\n",
       "    </tr>\n",
       "    <tr>\n",
       "      <th>50%</th>\n",
       "      <td>2.000000</td>\n",
       "      <td>5.000000</td>\n",
       "      <td>60.000000</td>\n",
       "      <td>2011.000000</td>\n",
       "      <td>6.964510</td>\n",
       "      <td>6.161935</td>\n",
       "      <td>1238.500000</td>\n",
       "      <td>10.000000</td>\n",
       "      <td>2778.500000</td>\n",
       "      <td>2.217450</td>\n",
       "    </tr>\n",
       "    <tr>\n",
       "      <th>75%</th>\n",
       "      <td>2.000000</td>\n",
       "      <td>6.000000</td>\n",
       "      <td>90.000000</td>\n",
       "      <td>2015.000000</td>\n",
       "      <td>7.485098</td>\n",
       "      <td>6.550277</td>\n",
       "      <td>2663.000000</td>\n",
       "      <td>13.000000</td>\n",
       "      <td>5382.000000</td>\n",
       "      <td>2.786300</td>\n",
       "    </tr>\n",
       "    <tr>\n",
       "      <th>max</th>\n",
       "      <td>8.000000</td>\n",
       "      <td>100.000000</td>\n",
       "      <td>12000.000000</td>\n",
       "      <td>2020.000000</td>\n",
       "      <td>9.186900</td>\n",
       "      <td>8.576860</td>\n",
       "      <td>93524.000000</td>\n",
       "      <td>18.000000</td>\n",
       "      <td>139881.000000</td>\n",
       "      <td>4.723300</td>\n",
       "    </tr>\n",
       "  </tbody>\n",
       "</table>\n",
       "</div>"
      ],
      "text/plain": [
       "       min_players  max_players      avg_time         year   avg_rating  \\\n",
       "count  4768.000000  4768.000000   4768.000000  4768.000000  4768.000000   \n",
       "mean      1.998951     5.466862     82.654308  1996.456586     6.950445   \n",
       "std       0.699575     7.197982    246.712028   175.123777     0.771389   \n",
       "min       0.000000     0.000000      1.000000 -3500.000000     2.266230   \n",
       "25%       2.000000     4.000000     30.000000  2004.000000     6.485913   \n",
       "50%       2.000000     5.000000     60.000000  2011.000000     6.964510   \n",
       "75%       2.000000     6.000000     90.000000  2015.000000     7.485098   \n",
       "max       8.000000   100.000000  12000.000000  2020.000000     9.186900   \n",
       "\n",
       "       geek_rating     num_votes          age          owned       weight  \n",
       "count  4768.000000   4768.000000  4768.000000    4768.000000  4768.000000  \n",
       "mean      6.245841   3084.935612    10.657508    5277.257550     2.273101  \n",
       "std       0.539750   6084.947744     2.741033    8597.807335     0.776210  \n",
       "min       3.526090    500.000000     0.000000     263.000000     1.000000  \n",
       "25%       5.874825    750.000000     8.000000    1616.750000     1.673400  \n",
       "50%       6.161935   1238.500000    10.000000    2778.500000     2.217450  \n",
       "75%       6.550277   2663.000000    13.000000    5382.000000     2.786300  \n",
       "max       8.576860  93524.000000    18.000000  139881.000000     4.723300  "
      ]
     },
     "execution_count": 3,
     "metadata": {},
     "output_type": "execute_result"
    }
   ],
   "source": [
    "df.describe()"
   ]
  },
  {
   "cell_type": "markdown",
   "id": "institutional-friend",
   "metadata": {},
   "source": [
    "##Observations\n",
    "Number of votes highly correlated with number of users who own the game. Makes sense.\n",
    "Number of votes also associated with \"geek rating.\" Makes sense because Geek Rating is a Bayesian average.\n",
    "Number owned is correlated with both ratings. Makes sense that people would vote for stuff they own.\n",
    "Average playing time and \"weight\" are correlated. Makes sense. Longer games are weightier.\n",
    "Recommended age and wieght are correlated because games for kids are less weighty.\n"
   ]
  },
  {
   "cell_type": "code",
   "execution_count": 4,
   "id": "unauthorized-assistant",
   "metadata": {},
   "outputs": [
    {
     "data": {
      "text/plain": [
       "<AxesSubplot:>"
      ]
     },
     "execution_count": 4,
     "metadata": {},
     "output_type": "execute_result"
    },
    {
     "data": {
      "image/png": "[encoded data removed]",
      "text/plain": [
       "<Figure size 432x288 with 1 Axes>"
      ]
     },
     "metadata": {
      "needs_background": "light"
     },
     "output_type": "display_data"
    }
   ],
   "source": [
    "plt.xticks(rotation=90)\n",
    "sns.boxplot(data=df)"
   ]
  },
  {
   "cell_type": "code",
   "execution_count": 5,
   "id": "twelve-accommodation",
   "metadata": {},
   "outputs": [
    {
     "data": {
      "text/plain": [
       "<AxesSubplot:>"
      ]
     },
     "execution_count": 5,
     "metadata": {},
     "output_type": "execute_result"
    },
    {
     "data": {
      "image/png": "[encoded data removed]",
      "text/plain": [
       "<Figure size 432x288 with 1 Axes>"
      ]
     },
     "metadata": {
      "needs_background": "light"
     },
     "output_type": "display_data"
    }
   ],
   "source": [
    "sns.boxplot(data=df[['min_players']])"
   ]
  },
  {
   "cell_type": "code",
   "execution_count": 6,
   "id": "bigger-arthritis",
   "metadata": {
    "scrolled": true
   },
   "outputs": [
    {
     "data": {
      "text/plain": [
       "<AxesSubplot:>"
      ]
     },
     "execution_count": 6,
     "metadata": {},
     "output_type": "execute_result"
    },
    {
     "data": {
      "image/png": "[encoded data removed]",
      "text/plain": [
       "<Figure size 432x288 with 1 Axes>"
      ]
     },
     "metadata": {
      "needs_background": "light"
     },
     "output_type": "display_data"
    }
   ],
   "source": [
    "sns.boxplot(data=df[['max_players']])"
   ]
  },
  {
   "cell_type": "code",
   "execution_count": 7,
   "id": "increasing-rwanda",
   "metadata": {
    "scrolled": true
   },
   "outputs": [
    {
     "data": {
      "text/plain": [
       "<AxesSubplot:>"
      ]
     },
     "execution_count": 7,
     "metadata": {},
     "output_type": "execute_result"
    },
    {
     "data": {
      "image/png": "[encoded data removed]",
      "text/plain": [
       "<Figure size 432x288 with 1 Axes>"
      ]
     },
     "metadata": {
      "needs_background": "light"
     },
     "output_type": "display_data"
    }
   ],
   "source": [
    "sns.boxplot(data=df[['avg_time']])"
   ]
  },
  {
   "cell_type": "code",
   "execution_count": 8,
   "id": "expected-supply",
   "metadata": {},
   "outputs": [
    {
     "data": {
      "text/plain": [
       "<AxesSubplot:>"
      ]
     },
     "execution_count": 8,
     "metadata": {},
     "output_type": "execute_result"
    },
    {
     "data": {
      "image/png": "[encoded data removed]",
      "text/plain": [
       "<Figure size 432x288 with 1 Axes>"
      ]
     },
     "metadata": {
      "needs_background": "light"
     },
     "output_type": "display_data"
    }
   ],
   "source": [
    "sns.boxplot(data=df[['year']])"
   ]
  },
  {
   "cell_type": "code",
   "execution_count": 9,
   "id": "sorted-disabled",
   "metadata": {},
   "outputs": [
    {
     "data": {
      "text/plain": [
       "<AxesSubplot:>"
      ]
     },
     "execution_count": 9,
     "metadata": {},
     "output_type": "execute_result"
    },
    {
     "data": {
      "image/png": "[encoded data removed]",
      "text/plain": [
       "<Figure size 432x288 with 1 Axes>"
      ]
     },
     "metadata": {
      "needs_background": "light"
     },
     "output_type": "display_data"
    }
   ],
   "source": [
    "sns.boxplot(data=df[['avg_rating', 'geek_rating']])"
   ]
  },
  {
   "cell_type": "code",
   "execution_count": 10,
   "id": "victorian-representative",
   "metadata": {},
   "outputs": [
    {
     "data": {
      "text/plain": [
       "<AxesSubplot:>"
      ]
     },
     "execution_count": 10,
     "metadata": {},
     "output_type": "execute_result"
    },
    {
     "data": {
      "image/png": "[encoded data removed]",
      "text/plain": [
       "<Figure size 432x288 with 1 Axes>"
      ]
     },
     "metadata": {
      "needs_background": "light"
     },
     "output_type": "display_data"
    }
   ],
   "source": [
    "sns.boxplot(data=df[['age']])"
   ]
  },
  {
   "cell_type": "code",
   "execution_count": 11,
   "id": "nonprofit-zealand",
   "metadata": {},
   "outputs": [
    {
     "data": {
      "text/plain": [
       "<AxesSubplot:>"
      ]
     },
     "execution_count": 11,
     "metadata": {},
     "output_type": "execute_result"
    },
    {
     "data": {
      "image/png": "[encoded data removed]",
      "text/plain": [
       "<Figure size 432x288 with 1 Axes>"
      ]
     },
     "metadata": {
      "needs_background": "light"
     },
     "output_type": "display_data"
    }
   ],
   "source": [
    "sns.boxplot(data=df[['weight']])"
   ]
  },
  {
   "cell_type": "code",
   "execution_count": 12,
   "id": "alert-biotechnology",
   "metadata": {},
   "outputs": [
    {
     "data": {
      "text/plain": [
       "game_id\n",
       "23953       0\n",
       "4149        0\n",
       "18291       0\n",
       "25738       0\n",
       "21804       0\n",
       "         ... \n",
       "621        99\n",
       "141430     99\n",
       "155689     99\n",
       "263918    100\n",
       "233867    100\n",
       "Name: max_players, Length: 4768, dtype: int64"
      ]
     },
     "execution_count": 12,
     "metadata": {},
     "output_type": "execute_result"
    }
   ],
   "source": [
    "df['max_players'].sort_values()"
   ]
  },
  {
   "cell_type": "code",
   "execution_count": 13,
   "id": "cutting-interview",
   "metadata": {},
   "outputs": [
    {
     "data": {
      "text/html": [
       "<div>\n",
       "<style scoped>\n",
       "    .dataframe tbody tr th:only-of-type {\n",
       "        vertical-align: middle;\n",
       "    }\n",
       "\n",
       "    .dataframe tbody tr th {\n",
       "        vertical-align: top;\n",
       "    }\n",
       "\n",
       "    .dataframe thead th {\n",
       "        text-align: right;\n",
       "    }\n",
       "</style>\n",
       "<table border=\"1\" class=\"dataframe\">\n",
       "  <thead>\n",
       "    <tr style=\"text-align: right;\">\n",
       "      <th></th>\n",
       "      <th>names</th>\n",
       "      <th>min_players</th>\n",
       "      <th>max_players</th>\n",
       "      <th>avg_time</th>\n",
       "      <th>year</th>\n",
       "      <th>avg_rating</th>\n",
       "      <th>geek_rating</th>\n",
       "      <th>num_votes</th>\n",
       "      <th>age</th>\n",
       "      <th>mechanic</th>\n",
       "      <th>...</th>\n",
       "      <th>expands</th>\n",
       "      <th>Category_1</th>\n",
       "      <th>Category_2</th>\n",
       "      <th>Category_3</th>\n",
       "      <th>Category_4</th>\n",
       "      <th>Mechanic_1</th>\n",
       "      <th>Mechanic_2</th>\n",
       "      <th>Mechanic_3</th>\n",
       "      <th>Mechanic_4</th>\n",
       "      <th>Mechanic_5</th>\n",
       "    </tr>\n",
       "    <tr>\n",
       "      <th>game_id</th>\n",
       "      <th></th>\n",
       "      <th></th>\n",
       "      <th></th>\n",
       "      <th></th>\n",
       "      <th></th>\n",
       "      <th></th>\n",
       "      <th></th>\n",
       "      <th></th>\n",
       "      <th></th>\n",
       "      <th></th>\n",
       "      <th></th>\n",
       "      <th></th>\n",
       "      <th></th>\n",
       "      <th></th>\n",
       "      <th></th>\n",
       "      <th></th>\n",
       "      <th></th>\n",
       "      <th></th>\n",
       "      <th></th>\n",
       "      <th></th>\n",
       "      <th></th>\n",
       "    </tr>\n",
       "  </thead>\n",
       "  <tbody>\n",
       "    <tr>\n",
       "      <th>4149</th>\n",
       "      <td>Barrel of Monkeys</td>\n",
       "      <td>1</td>\n",
       "      <td>0</td>\n",
       "      <td>10.000000</td>\n",
       "      <td>1965</td>\n",
       "      <td>3.59595</td>\n",
       "      <td>4.83187</td>\n",
       "      <td>729.0</td>\n",
       "      <td>3</td>\n",
       "      <td>unknown</td>\n",
       "      <td>...</td>\n",
       "      <td>Nothing</td>\n",
       "      <td>Action / Dexterity</td>\n",
       "      <td>Animals</td>\n",
       "      <td>Children's Game</td>\n",
       "      <td>NaN</td>\n",
       "      <td>unknown</td>\n",
       "      <td>NaN</td>\n",
       "      <td>NaN</td>\n",
       "      <td>NaN</td>\n",
       "      <td>NaN</td>\n",
       "    </tr>\n",
       "    <tr>\n",
       "      <th>18291</th>\n",
       "      <td>Unpublished Prototype</td>\n",
       "      <td>0</td>\n",
       "      <td>0</td>\n",
       "      <td>86.965034</td>\n",
       "      <td>0</td>\n",
       "      <td>6.94741</td>\n",
       "      <td>5.93408</td>\n",
       "      <td>734.0</td>\n",
       "      <td>0</td>\n",
       "      <td>unknown</td>\n",
       "      <td>...</td>\n",
       "      <td>Nothing</td>\n",
       "      <td>unknown</td>\n",
       "      <td>NaN</td>\n",
       "      <td>NaN</td>\n",
       "      <td>NaN</td>\n",
       "      <td>unknown</td>\n",
       "      <td>NaN</td>\n",
       "      <td>NaN</td>\n",
       "      <td>NaN</td>\n",
       "      <td>NaN</td>\n",
       "    </tr>\n",
       "    <tr>\n",
       "      <th>21804</th>\n",
       "      <td>Traditional Card Games</td>\n",
       "      <td>0</td>\n",
       "      <td>0</td>\n",
       "      <td>86.965034</td>\n",
       "      <td>0</td>\n",
       "      <td>6.61362</td>\n",
       "      <td>5.90099</td>\n",
       "      <td>835.0</td>\n",
       "      <td>0</td>\n",
       "      <td>unknown</td>\n",
       "      <td>...</td>\n",
       "      <td>Nothing</td>\n",
       "      <td>Card Game</td>\n",
       "      <td>Game System</td>\n",
       "      <td>NaN</td>\n",
       "      <td>NaN</td>\n",
       "      <td>unknown</td>\n",
       "      <td>NaN</td>\n",
       "      <td>NaN</td>\n",
       "      <td>NaN</td>\n",
       "      <td>NaN</td>\n",
       "    </tr>\n",
       "    <tr>\n",
       "      <th>23953</th>\n",
       "      <td>Outside the Scope of BGG</td>\n",
       "      <td>0</td>\n",
       "      <td>0</td>\n",
       "      <td>86.965034</td>\n",
       "      <td>0</td>\n",
       "      <td>6.71669</td>\n",
       "      <td>5.83571</td>\n",
       "      <td>550.0</td>\n",
       "      <td>0</td>\n",
       "      <td>unknown</td>\n",
       "      <td>...</td>\n",
       "      <td>Nothing</td>\n",
       "      <td>unknown</td>\n",
       "      <td>NaN</td>\n",
       "      <td>NaN</td>\n",
       "      <td>NaN</td>\n",
       "      <td>unknown</td>\n",
       "      <td>NaN</td>\n",
       "      <td>NaN</td>\n",
       "      <td>NaN</td>\n",
       "      <td>NaN</td>\n",
       "    </tr>\n",
       "    <tr>\n",
       "      <th>25738</th>\n",
       "      <td>The Big Taboo</td>\n",
       "      <td>4</td>\n",
       "      <td>0</td>\n",
       "      <td>60.000000</td>\n",
       "      <td>2006</td>\n",
       "      <td>6.29962</td>\n",
       "      <td>5.72844</td>\n",
       "      <td>624.0</td>\n",
       "      <td>12</td>\n",
       "      <td>Acting, Memory, Paper-and-Pencil, Team-Based Game</td>\n",
       "      <td>...</td>\n",
       "      <td>Nothing</td>\n",
       "      <td>Action / Dexterity</td>\n",
       "      <td>Memory</td>\n",
       "      <td>Party Game</td>\n",
       "      <td>Word Game</td>\n",
       "      <td>Acting</td>\n",
       "      <td>Memory</td>\n",
       "      <td>Paper-and-Pencil</td>\n",
       "      <td>Team-Based Game</td>\n",
       "      <td>NaN</td>\n",
       "    </tr>\n",
       "    <tr>\n",
       "      <th>177497</th>\n",
       "      <td>Firefly: The Game – Jetwash</td>\n",
       "      <td>0</td>\n",
       "      <td>0</td>\n",
       "      <td>86.965034</td>\n",
       "      <td>2015</td>\n",
       "      <td>7.77097</td>\n",
       "      <td>6.12617</td>\n",
       "      <td>580.0</td>\n",
       "      <td>13</td>\n",
       "      <td>unknown</td>\n",
       "      <td>...</td>\n",
       "      <td>Firefly: The Game</td>\n",
       "      <td>Expansion for Base-game</td>\n",
       "      <td>Movies / TV / Radio theme</td>\n",
       "      <td>Science Fiction</td>\n",
       "      <td>Space Exploration</td>\n",
       "      <td>unknown</td>\n",
       "      <td>NaN</td>\n",
       "      <td>NaN</td>\n",
       "      <td>NaN</td>\n",
       "      <td>NaN</td>\n",
       "    </tr>\n",
       "  </tbody>\n",
       "</table>\n",
       "<p>6 rows × 25 columns</p>\n",
       "</div>"
      ],
      "text/plain": [
       "                               names  min_players  max_players   avg_time  \\\n",
       "game_id                                                                     \n",
       "4149               Barrel of Monkeys            1            0  10.000000   \n",
       "18291          Unpublished Prototype            0            0  86.965034   \n",
       "21804         Traditional Card Games            0            0  86.965034   \n",
       "23953       Outside the Scope of BGG            0            0  86.965034   \n",
       "25738                  The Big Taboo            4            0  60.000000   \n",
       "177497   Firefly: The Game – Jetwash            0            0  86.965034   \n",
       "\n",
       "         year  avg_rating  geek_rating  num_votes  age  \\\n",
       "game_id                                                  \n",
       "4149     1965     3.59595      4.83187      729.0    3   \n",
       "18291       0     6.94741      5.93408      734.0    0   \n",
       "21804       0     6.61362      5.90099      835.0    0   \n",
       "23953       0     6.71669      5.83571      550.0    0   \n",
       "25738    2006     6.29962      5.72844      624.0   12   \n",
       "177497   2015     7.77097      6.12617      580.0   13   \n",
       "\n",
       "                                                  mechanic  ...  \\\n",
       "game_id                                                     ...   \n",
       "4149                                               unknown  ...   \n",
       "18291                                              unknown  ...   \n",
       "21804                                              unknown  ...   \n",
       "23953                                              unknown  ...   \n",
       "25738    Acting, Memory, Paper-and-Pencil, Team-Based Game  ...   \n",
       "177497                                             unknown  ...   \n",
       "\n",
       "                   expands               Category_1  \\\n",
       "game_id                                               \n",
       "4149               Nothing       Action / Dexterity   \n",
       "18291              Nothing                  unknown   \n",
       "21804              Nothing                Card Game   \n",
       "23953              Nothing                  unknown   \n",
       "25738              Nothing       Action / Dexterity   \n",
       "177497   Firefly: The Game  Expansion for Base-game   \n",
       "\n",
       "                        Category_2       Category_3         Category_4  \\\n",
       "game_id                                                                  \n",
       "4149                       Animals  Children's Game                NaN   \n",
       "18291                          NaN              NaN                NaN   \n",
       "21804                  Game System              NaN                NaN   \n",
       "23953                          NaN              NaN                NaN   \n",
       "25738                       Memory       Party Game          Word Game   \n",
       "177497   Movies / TV / Radio theme  Science Fiction  Space Exploration   \n",
       "\n",
       "        Mechanic_1 Mechanic_2        Mechanic_3       Mechanic_4 Mechanic_5  \n",
       "game_id                                                                      \n",
       "4149       unknown        NaN               NaN              NaN        NaN  \n",
       "18291      unknown        NaN               NaN              NaN        NaN  \n",
       "21804      unknown        NaN               NaN              NaN        NaN  \n",
       "23953      unknown        NaN               NaN              NaN        NaN  \n",
       "25738       Acting     Memory  Paper-and-Pencil  Team-Based Game        NaN  \n",
       "177497     unknown        NaN               NaN              NaN        NaN  \n",
       "\n",
       "[6 rows x 25 columns]"
      ]
     },
     "execution_count": 13,
     "metadata": {},
     "output_type": "execute_result"
    }
   ],
   "source": [
    "df[df['max_players'] == 0]"
   ]
  },
  {
   "cell_type": "code",
   "execution_count": 14,
   "id": "great-tuning",
   "metadata": {},
   "outputs": [],
   "source": [
    "#Dropping irrelevant games\n",
    "df = df.drop([18291, 21804, 23953], axis = 0)"
   ]
  },
  {
   "cell_type": "code",
   "execution_count": 15,
   "id": "sporting-spiritual",
   "metadata": {},
   "outputs": [],
   "source": [
    "#looking up these two on the web site to get correct player counts\n",
    "df.loc[4149, 'max_players'] = 1\n",
    "df.loc[25738, 'max_players'] = 4\n",
    "df.loc[177497, 'max_players'] = 4\n",
    "df.loc[177497, 'min_players'] = 1"
   ]
  },
  {
   "cell_type": "code",
   "execution_count": 16,
   "id": "higher-japan",
   "metadata": {},
   "outputs": [
    {
     "data": {
      "text/plain": [
       "game_id\n",
       "1827        1\n",
       "35350       1\n",
       "1608        1\n",
       "231999      1\n",
       "22877       1\n",
       "         ... \n",
       "51         99\n",
       "110279     99\n",
       "139771     99\n",
       "233867    100\n",
       "263918    100\n",
       "Name: max_players, Length: 4765, dtype: int64"
      ]
     },
     "execution_count": 16,
     "metadata": {},
     "output_type": "execute_result"
    }
   ],
   "source": [
    "df['max_players'].sort_values()"
   ]
  },
  {
   "cell_type": "code",
   "execution_count": 17,
   "id": "right-limit",
   "metadata": {},
   "outputs": [
    {
     "data": {
      "text/plain": [
       "count    4765.000000\n",
       "mean        5.472193\n",
       "std         7.197985\n",
       "min         1.000000\n",
       "25%         4.000000\n",
       "50%         5.000000\n",
       "75%         6.000000\n",
       "max       100.000000\n",
       "Name: max_players, dtype: float64"
      ]
     },
     "execution_count": 17,
     "metadata": {},
     "output_type": "execute_result"
    }
   ],
   "source": [
    "df['max_players'].describe()"
   ]
  },
  {
   "cell_type": "code",
   "execution_count": 18,
   "id": "mysterious-consciousness",
   "metadata": {},
   "outputs": [
    {
     "data": {
      "text/html": [
       "<div>\n",
       "<style scoped>\n",
       "    .dataframe tbody tr th:only-of-type {\n",
       "        vertical-align: middle;\n",
       "    }\n",
       "\n",
       "    .dataframe tbody tr th {\n",
       "        vertical-align: top;\n",
       "    }\n",
       "\n",
       "    .dataframe thead th {\n",
       "        text-align: right;\n",
       "    }\n",
       "</style>\n",
       "<table border=\"1\" class=\"dataframe\">\n",
       "  <thead>\n",
       "    <tr style=\"text-align: right;\">\n",
       "      <th></th>\n",
       "      <th>min_players</th>\n",
       "      <th>max_players</th>\n",
       "      <th>avg_time</th>\n",
       "      <th>year</th>\n",
       "      <th>avg_rating</th>\n",
       "      <th>geek_rating</th>\n",
       "      <th>num_votes</th>\n",
       "      <th>age</th>\n",
       "      <th>owned</th>\n",
       "      <th>weight</th>\n",
       "    </tr>\n",
       "  </thead>\n",
       "  <tbody>\n",
       "    <tr>\n",
       "      <th>count</th>\n",
       "      <td>4765.000000</td>\n",
       "      <td>4765.000000</td>\n",
       "      <td>4765.000000</td>\n",
       "      <td>4765.000000</td>\n",
       "      <td>4765.000000</td>\n",
       "      <td>4765.000000</td>\n",
       "      <td>4765.000000</td>\n",
       "      <td>4765.000000</td>\n",
       "      <td>4765.000000</td>\n",
       "      <td>4765.000000</td>\n",
       "    </tr>\n",
       "    <tr>\n",
       "      <th>mean</th>\n",
       "      <td>2.000420</td>\n",
       "      <td>5.472193</td>\n",
       "      <td>82.651594</td>\n",
       "      <td>1997.713536</td>\n",
       "      <td>6.950565</td>\n",
       "      <td>6.246065</td>\n",
       "      <td>3086.433158</td>\n",
       "      <td>10.664218</td>\n",
       "      <td>5279.509759</td>\n",
       "      <td>2.273254</td>\n",
       "    </tr>\n",
       "    <tr>\n",
       "      <th>std</th>\n",
       "      <td>0.697543</td>\n",
       "      <td>7.197985</td>\n",
       "      <td>246.789672</td>\n",
       "      <td>167.857366</td>\n",
       "      <td>0.771609</td>\n",
       "      <td>0.539845</td>\n",
       "      <td>6086.569783</td>\n",
       "      <td>2.728813</td>\n",
       "      <td>8600.030255</td>\n",
       "      <td>0.776386</td>\n",
       "    </tr>\n",
       "    <tr>\n",
       "      <th>min</th>\n",
       "      <td>1.000000</td>\n",
       "      <td>1.000000</td>\n",
       "      <td>1.000000</td>\n",
       "      <td>-3500.000000</td>\n",
       "      <td>2.266230</td>\n",
       "      <td>3.526090</td>\n",
       "      <td>500.000000</td>\n",
       "      <td>0.000000</td>\n",
       "      <td>263.000000</td>\n",
       "      <td>1.000000</td>\n",
       "    </tr>\n",
       "    <tr>\n",
       "      <th>25%</th>\n",
       "      <td>2.000000</td>\n",
       "      <td>4.000000</td>\n",
       "      <td>30.000000</td>\n",
       "      <td>2004.000000</td>\n",
       "      <td>6.485260</td>\n",
       "      <td>5.874880</td>\n",
       "      <td>750.000000</td>\n",
       "      <td>8.000000</td>\n",
       "      <td>1617.000000</td>\n",
       "      <td>1.673500</td>\n",
       "    </tr>\n",
       "    <tr>\n",
       "      <th>50%</th>\n",
       "      <td>2.000000</td>\n",
       "      <td>5.000000</td>\n",
       "      <td>60.000000</td>\n",
       "      <td>2011.000000</td>\n",
       "      <td>6.965010</td>\n",
       "      <td>6.162790</td>\n",
       "      <td>1239.000000</td>\n",
       "      <td>10.000000</td>\n",
       "      <td>2779.000000</td>\n",
       "      <td>2.217500</td>\n",
       "    </tr>\n",
       "    <tr>\n",
       "      <th>75%</th>\n",
       "      <td>2.000000</td>\n",
       "      <td>6.000000</td>\n",
       "      <td>90.000000</td>\n",
       "      <td>2015.000000</td>\n",
       "      <td>7.485150</td>\n",
       "      <td>6.551050</td>\n",
       "      <td>2663.000000</td>\n",
       "      <td>13.000000</td>\n",
       "      <td>5385.000000</td>\n",
       "      <td>2.787200</td>\n",
       "    </tr>\n",
       "    <tr>\n",
       "      <th>max</th>\n",
       "      <td>8.000000</td>\n",
       "      <td>100.000000</td>\n",
       "      <td>12000.000000</td>\n",
       "      <td>2020.000000</td>\n",
       "      <td>9.186900</td>\n",
       "      <td>8.576860</td>\n",
       "      <td>93524.000000</td>\n",
       "      <td>18.000000</td>\n",
       "      <td>139881.000000</td>\n",
       "      <td>4.723300</td>\n",
       "    </tr>\n",
       "  </tbody>\n",
       "</table>\n",
       "</div>"
      ],
      "text/plain": [
       "       min_players  max_players      avg_time         year   avg_rating  \\\n",
       "count  4765.000000  4765.000000   4765.000000  4765.000000  4765.000000   \n",
       "mean      2.000420     5.472193     82.651594  1997.713536     6.950565   \n",
       "std       0.697543     7.197985    246.789672   167.857366     0.771609   \n",
       "min       1.000000     1.000000      1.000000 -3500.000000     2.266230   \n",
       "25%       2.000000     4.000000     30.000000  2004.000000     6.485260   \n",
       "50%       2.000000     5.000000     60.000000  2011.000000     6.965010   \n",
       "75%       2.000000     6.000000     90.000000  2015.000000     7.485150   \n",
       "max       8.000000   100.000000  12000.000000  2020.000000     9.186900   \n",
       "\n",
       "       geek_rating     num_votes          age          owned       weight  \n",
       "count  4765.000000   4765.000000  4765.000000    4765.000000  4765.000000  \n",
       "mean      6.246065   3086.433158    10.664218    5279.509759     2.273254  \n",
       "std       0.539845   6086.569783     2.728813    8600.030255     0.776386  \n",
       "min       3.526090    500.000000     0.000000     263.000000     1.000000  \n",
       "25%       5.874880    750.000000     8.000000    1617.000000     1.673500  \n",
       "50%       6.162790   1239.000000    10.000000    2779.000000     2.217500  \n",
       "75%       6.551050   2663.000000    13.000000    5385.000000     2.787200  \n",
       "max       8.576860  93524.000000    18.000000  139881.000000     4.723300  "
      ]
     },
     "execution_count": 18,
     "metadata": {},
     "output_type": "execute_result"
    }
   ],
   "source": [
    "df.describe()"
   ]
  },
  {
   "cell_type": "code",
   "execution_count": 19,
   "id": "adjustable-liberty",
   "metadata": {},
   "outputs": [
    {
     "data": {
      "text/plain": [
       "array([14, 12, 10,  8, 13,  9,  7,  6, 11, 16,  4, 18,  0,  5, 15, 17,  3,\n",
       "        2], dtype=int64)"
      ]
     },
     "execution_count": 19,
     "metadata": {},
     "output_type": "execute_result"
    }
   ],
   "source": [
    "df['age'].unique()"
   ]
  },
  {
   "cell_type": "code",
   "execution_count": 20,
   "id": "military-standard",
   "metadata": {},
   "outputs": [
    {
     "data": {
      "text/html": [
       "<div>\n",
       "<style scoped>\n",
       "    .dataframe tbody tr th:only-of-type {\n",
       "        vertical-align: middle;\n",
       "    }\n",
       "\n",
       "    .dataframe tbody tr th {\n",
       "        vertical-align: top;\n",
       "    }\n",
       "\n",
       "    .dataframe thead th {\n",
       "        text-align: right;\n",
       "    }\n",
       "</style>\n",
       "<table border=\"1\" class=\"dataframe\">\n",
       "  <thead>\n",
       "    <tr style=\"text-align: right;\">\n",
       "      <th></th>\n",
       "      <th>names</th>\n",
       "      <th>min_players</th>\n",
       "      <th>max_players</th>\n",
       "      <th>avg_time</th>\n",
       "      <th>year</th>\n",
       "      <th>avg_rating</th>\n",
       "      <th>geek_rating</th>\n",
       "      <th>num_votes</th>\n",
       "      <th>age</th>\n",
       "      <th>mechanic</th>\n",
       "      <th>...</th>\n",
       "      <th>expands</th>\n",
       "      <th>Category_1</th>\n",
       "      <th>Category_2</th>\n",
       "      <th>Category_3</th>\n",
       "      <th>Category_4</th>\n",
       "      <th>Mechanic_1</th>\n",
       "      <th>Mechanic_2</th>\n",
       "      <th>Mechanic_3</th>\n",
       "      <th>Mechanic_4</th>\n",
       "      <th>Mechanic_5</th>\n",
       "    </tr>\n",
       "    <tr>\n",
       "      <th>game_id</th>\n",
       "      <th></th>\n",
       "      <th></th>\n",
       "      <th></th>\n",
       "      <th></th>\n",
       "      <th></th>\n",
       "      <th></th>\n",
       "      <th></th>\n",
       "      <th></th>\n",
       "      <th></th>\n",
       "      <th></th>\n",
       "      <th></th>\n",
       "      <th></th>\n",
       "      <th></th>\n",
       "      <th></th>\n",
       "      <th></th>\n",
       "      <th></th>\n",
       "      <th></th>\n",
       "      <th></th>\n",
       "      <th></th>\n",
       "      <th></th>\n",
       "      <th></th>\n",
       "    </tr>\n",
       "  </thead>\n",
       "  <tbody>\n",
       "    <tr>\n",
       "      <th>669</th>\n",
       "      <td>Plague &amp; Pestilence</td>\n",
       "      <td>2</td>\n",
       "      <td>6</td>\n",
       "      <td>45.000000</td>\n",
       "      <td>1993</td>\n",
       "      <td>6.19744</td>\n",
       "      <td>5.67922</td>\n",
       "      <td>671.0</td>\n",
       "      <td>0</td>\n",
       "      <td>Card Drafting, Dice Rolling, Take That</td>\n",
       "      <td>...</td>\n",
       "      <td>Nothing</td>\n",
       "      <td>Card Game</td>\n",
       "      <td>Medieval</td>\n",
       "      <td>NaN</td>\n",
       "      <td>NaN</td>\n",
       "      <td>Card Drafting</td>\n",
       "      <td>Dice Rolling</td>\n",
       "      <td>Take That</td>\n",
       "      <td>NaN</td>\n",
       "      <td>NaN</td>\n",
       "    </tr>\n",
       "    <tr>\n",
       "      <th>4286</th>\n",
       "      <td>A Game of Thrones Collectible Card Game</td>\n",
       "      <td>2</td>\n",
       "      <td>5</td>\n",
       "      <td>30.000000</td>\n",
       "      <td>2002</td>\n",
       "      <td>6.85568</td>\n",
       "      <td>5.87459</td>\n",
       "      <td>609.0</td>\n",
       "      <td>0</td>\n",
       "      <td>Hand Management</td>\n",
       "      <td>...</td>\n",
       "      <td>Nothing</td>\n",
       "      <td>Card Game</td>\n",
       "      <td>Collectible Components</td>\n",
       "      <td>Fantasy</td>\n",
       "      <td>Novel-based</td>\n",
       "      <td>Hand Management</td>\n",
       "      <td>NaN</td>\n",
       "      <td>NaN</td>\n",
       "      <td>NaN</td>\n",
       "      <td>NaN</td>\n",
       "    </tr>\n",
       "    <tr>\n",
       "      <th>5316</th>\n",
       "      <td>Warhammer Epic 40,000</td>\n",
       "      <td>2</td>\n",
       "      <td>4</td>\n",
       "      <td>180.000000</td>\n",
       "      <td>1997</td>\n",
       "      <td>6.60233</td>\n",
       "      <td>5.80506</td>\n",
       "      <td>575.0</td>\n",
       "      <td>0</td>\n",
       "      <td>Dice Rolling, Modular Board, Variable Player P...</td>\n",
       "      <td>...</td>\n",
       "      <td>Nothing</td>\n",
       "      <td>Miniatures</td>\n",
       "      <td>Science Fiction</td>\n",
       "      <td>NaN</td>\n",
       "      <td>NaN</td>\n",
       "      <td>Dice Rolling</td>\n",
       "      <td>Modular Board</td>\n",
       "      <td>Variable Player Powers</td>\n",
       "      <td>NaN</td>\n",
       "      <td>NaN</td>\n",
       "    </tr>\n",
       "    <tr>\n",
       "      <th>10934</th>\n",
       "      <td>Things...</td>\n",
       "      <td>4</td>\n",
       "      <td>15</td>\n",
       "      <td>45.000000</td>\n",
       "      <td>2002</td>\n",
       "      <td>6.09903</td>\n",
       "      <td>5.79013</td>\n",
       "      <td>1887.0</td>\n",
       "      <td>0</td>\n",
       "      <td>Memory, Paper-and-Pencil</td>\n",
       "      <td>...</td>\n",
       "      <td>Nothing</td>\n",
       "      <td>Deduction</td>\n",
       "      <td>Humor</td>\n",
       "      <td>Memory</td>\n",
       "      <td>Party Game</td>\n",
       "      <td>Memory</td>\n",
       "      <td>Paper-and-Pencil</td>\n",
       "      <td>NaN</td>\n",
       "      <td>NaN</td>\n",
       "      <td>NaN</td>\n",
       "    </tr>\n",
       "    <tr>\n",
       "      <th>18748</th>\n",
       "      <td>Unhappy King Charles!</td>\n",
       "      <td>2</td>\n",
       "      <td>2</td>\n",
       "      <td>240.000000</td>\n",
       "      <td>2008</td>\n",
       "      <td>7.64185</td>\n",
       "      <td>6.16650</td>\n",
       "      <td>674.0</td>\n",
       "      <td>0</td>\n",
       "      <td>Campaign / Battle Card Driven, Dice Rolling, P...</td>\n",
       "      <td>...</td>\n",
       "      <td>Nothing</td>\n",
       "      <td>Civil War</td>\n",
       "      <td>Pike and Shot</td>\n",
       "      <td>Wargame</td>\n",
       "      <td>NaN</td>\n",
       "      <td>Campaign / Battle Card Driven</td>\n",
       "      <td>Dice Rolling</td>\n",
       "      <td>Point to Point Movement</td>\n",
       "      <td>NaN</td>\n",
       "      <td>NaN</td>\n",
       "    </tr>\n",
       "    <tr>\n",
       "      <th>...</th>\n",
       "      <td>...</td>\n",
       "      <td>...</td>\n",
       "      <td>...</td>\n",
       "      <td>...</td>\n",
       "      <td>...</td>\n",
       "      <td>...</td>\n",
       "      <td>...</td>\n",
       "      <td>...</td>\n",
       "      <td>...</td>\n",
       "      <td>...</td>\n",
       "      <td>...</td>\n",
       "      <td>...</td>\n",
       "      <td>...</td>\n",
       "      <td>...</td>\n",
       "      <td>...</td>\n",
       "      <td>...</td>\n",
       "      <td>...</td>\n",
       "      <td>...</td>\n",
       "      <td>...</td>\n",
       "      <td>...</td>\n",
       "      <td>...</td>\n",
       "    </tr>\n",
       "    <tr>\n",
       "      <th>208364</th>\n",
       "      <td>Concordia: Gallia / Corsica</td>\n",
       "      <td>2</td>\n",
       "      <td>5</td>\n",
       "      <td>86.965034</td>\n",
       "      <td>2016</td>\n",
       "      <td>8.19335</td>\n",
       "      <td>6.35010</td>\n",
       "      <td>642.0</td>\n",
       "      <td>0</td>\n",
       "      <td>Card Drafting, Deck, Bag, and Pool Building, H...</td>\n",
       "      <td>...</td>\n",
       "      <td>Concordia</td>\n",
       "      <td>Ancient</td>\n",
       "      <td>Economic</td>\n",
       "      <td>Expansion for Base-game</td>\n",
       "      <td>Nautical</td>\n",
       "      <td>Card Drafting</td>\n",
       "      <td>Deck</td>\n",
       "      <td>Bag</td>\n",
       "      <td>and Pool Building</td>\n",
       "      <td>Hand Management</td>\n",
       "    </tr>\n",
       "    <tr>\n",
       "      <th>213437</th>\n",
       "      <td>Tyrants of the Underdark: Expansion Decks – Ab...</td>\n",
       "      <td>2</td>\n",
       "      <td>4</td>\n",
       "      <td>60.000000</td>\n",
       "      <td>2017</td>\n",
       "      <td>7.87128</td>\n",
       "      <td>6.14741</td>\n",
       "      <td>554.0</td>\n",
       "      <td>0</td>\n",
       "      <td>Area Majority / Influence, Deck, Bag, and Pool...</td>\n",
       "      <td>...</td>\n",
       "      <td>Tyrants of the Underdark</td>\n",
       "      <td>Fantasy</td>\n",
       "      <td>NaN</td>\n",
       "      <td>NaN</td>\n",
       "      <td>NaN</td>\n",
       "      <td>Area Majority / Influence</td>\n",
       "      <td>Deck</td>\n",
       "      <td>Bag</td>\n",
       "      <td>and Pool Building</td>\n",
       "      <td>NaN</td>\n",
       "    </tr>\n",
       "    <tr>\n",
       "      <th>232945</th>\n",
       "      <td>The Voyages of Marco Polo: Agents of Venice</td>\n",
       "      <td>2</td>\n",
       "      <td>5</td>\n",
       "      <td>86.965034</td>\n",
       "      <td>2017</td>\n",
       "      <td>7.96044</td>\n",
       "      <td>6.45510</td>\n",
       "      <td>910.0</td>\n",
       "      <td>0</td>\n",
       "      <td>Card Drafting, Dice Rolling, Point to Point Mo...</td>\n",
       "      <td>...</td>\n",
       "      <td>The Voyages of Marco Polo</td>\n",
       "      <td>Dice</td>\n",
       "      <td>Economic</td>\n",
       "      <td>Expansion for Base-game</td>\n",
       "      <td>Medieval</td>\n",
       "      <td>Card Drafting</td>\n",
       "      <td>Dice Rolling</td>\n",
       "      <td>Point to Point Movement</td>\n",
       "      <td>Variable Player Powers</td>\n",
       "      <td>NaN</td>\n",
       "    </tr>\n",
       "    <tr>\n",
       "      <th>242684</th>\n",
       "      <td>Reavers of Midgard</td>\n",
       "      <td>2</td>\n",
       "      <td>4</td>\n",
       "      <td>90.000000</td>\n",
       "      <td>2019</td>\n",
       "      <td>7.64184</td>\n",
       "      <td>6.35712</td>\n",
       "      <td>1029.0</td>\n",
       "      <td>0</td>\n",
       "      <td>Card Drafting, Dice Rolling, Follow, Set Colle...</td>\n",
       "      <td>...</td>\n",
       "      <td>Nothing</td>\n",
       "      <td>unknown</td>\n",
       "      <td>NaN</td>\n",
       "      <td>NaN</td>\n",
       "      <td>NaN</td>\n",
       "      <td>Card Drafting</td>\n",
       "      <td>Dice Rolling</td>\n",
       "      <td>Follow</td>\n",
       "      <td>Set Collection</td>\n",
       "      <td>Worker Placement</td>\n",
       "    </tr>\n",
       "    <tr>\n",
       "      <th>249821</th>\n",
       "      <td>Codenames: Harry Potter</td>\n",
       "      <td>2</td>\n",
       "      <td>2</td>\n",
       "      <td>15.000000</td>\n",
       "      <td>2018</td>\n",
       "      <td>6.89447</td>\n",
       "      <td>5.86082</td>\n",
       "      <td>526.0</td>\n",
       "      <td>0</td>\n",
       "      <td>Communication Limits, Cooperative Game, Push Y...</td>\n",
       "      <td>...</td>\n",
       "      <td>Nothing</td>\n",
       "      <td>Deduction</td>\n",
       "      <td>Movies / TV / Radio theme</td>\n",
       "      <td>Novel-based</td>\n",
       "      <td>Word Game</td>\n",
       "      <td>Communication Limits</td>\n",
       "      <td>Cooperative Game</td>\n",
       "      <td>Push Your Luck</td>\n",
       "      <td>NaN</td>\n",
       "      <td>NaN</td>\n",
       "    </tr>\n",
       "  </tbody>\n",
       "</table>\n",
       "<p>61 rows × 25 columns</p>\n",
       "</div>"
      ],
      "text/plain": [
       "                                                     names  min_players  \\\n",
       "game_id                                                                   \n",
       "669                                    Plague & Pestilence            2   \n",
       "4286               A Game of Thrones Collectible Card Game            2   \n",
       "5316                                 Warhammer Epic 40,000            2   \n",
       "10934                                            Things...            4   \n",
       "18748                                Unhappy King Charles!            2   \n",
       "...                                                    ...          ...   \n",
       "208364                         Concordia: Gallia / Corsica            2   \n",
       "213437   Tyrants of the Underdark: Expansion Decks – Ab...            2   \n",
       "232945         The Voyages of Marco Polo: Agents of Venice            2   \n",
       "242684                                  Reavers of Midgard            2   \n",
       "249821                             Codenames: Harry Potter            2   \n",
       "\n",
       "         max_players    avg_time  year  avg_rating  geek_rating  num_votes  \\\n",
       "game_id                                                                      \n",
       "669                6   45.000000  1993     6.19744      5.67922      671.0   \n",
       "4286               5   30.000000  2002     6.85568      5.87459      609.0   \n",
       "5316               4  180.000000  1997     6.60233      5.80506      575.0   \n",
       "10934             15   45.000000  2002     6.09903      5.79013     1887.0   \n",
       "18748              2  240.000000  2008     7.64185      6.16650      674.0   \n",
       "...              ...         ...   ...         ...          ...        ...   \n",
       "208364             5   86.965034  2016     8.19335      6.35010      642.0   \n",
       "213437             4   60.000000  2017     7.87128      6.14741      554.0   \n",
       "232945             5   86.965034  2017     7.96044      6.45510      910.0   \n",
       "242684             4   90.000000  2019     7.64184      6.35712     1029.0   \n",
       "249821             2   15.000000  2018     6.89447      5.86082      526.0   \n",
       "\n",
       "         age                                           mechanic  ...  \\\n",
       "game_id                                                          ...   \n",
       "669        0             Card Drafting, Dice Rolling, Take That  ...   \n",
       "4286       0                                    Hand Management  ...   \n",
       "5316       0  Dice Rolling, Modular Board, Variable Player P...  ...   \n",
       "10934      0                           Memory, Paper-and-Pencil  ...   \n",
       "18748      0  Campaign / Battle Card Driven, Dice Rolling, P...  ...   \n",
       "...      ...                                                ...  ...   \n",
       "208364     0  Card Drafting, Deck, Bag, and Pool Building, H...  ...   \n",
       "213437     0  Area Majority / Influence, Deck, Bag, and Pool...  ...   \n",
       "232945     0  Card Drafting, Dice Rolling, Point to Point Mo...  ...   \n",
       "242684     0  Card Drafting, Dice Rolling, Follow, Set Colle...  ...   \n",
       "249821     0  Communication Limits, Cooperative Game, Push Y...  ...   \n",
       "\n",
       "                           expands  Category_1                 Category_2  \\\n",
       "game_id                                                                     \n",
       "669                        Nothing   Card Game                   Medieval   \n",
       "4286                       Nothing   Card Game     Collectible Components   \n",
       "5316                       Nothing  Miniatures            Science Fiction   \n",
       "10934                      Nothing   Deduction                      Humor   \n",
       "18748                      Nothing   Civil War              Pike and Shot   \n",
       "...                            ...         ...                        ...   \n",
       "208364                   Concordia     Ancient                   Economic   \n",
       "213437    Tyrants of the Underdark     Fantasy                        NaN   \n",
       "232945   The Voyages of Marco Polo        Dice                   Economic   \n",
       "242684                     Nothing     unknown                        NaN   \n",
       "249821                     Nothing   Deduction  Movies / TV / Radio theme   \n",
       "\n",
       "                      Category_3   Category_4                     Mechanic_1  \\\n",
       "game_id                                                                        \n",
       "669                          NaN          NaN                  Card Drafting   \n",
       "4286                     Fantasy  Novel-based                Hand Management   \n",
       "5316                         NaN          NaN                   Dice Rolling   \n",
       "10934                     Memory   Party Game                         Memory   \n",
       "18748                    Wargame          NaN  Campaign / Battle Card Driven   \n",
       "...                          ...          ...                            ...   \n",
       "208364   Expansion for Base-game     Nautical                  Card Drafting   \n",
       "213437                       NaN          NaN      Area Majority / Influence   \n",
       "232945   Expansion for Base-game     Medieval                  Card Drafting   \n",
       "242684                       NaN          NaN                  Card Drafting   \n",
       "249821               Novel-based    Word Game           Communication Limits   \n",
       "\n",
       "               Mechanic_2               Mechanic_3              Mechanic_4  \\\n",
       "game_id                                                                      \n",
       "669          Dice Rolling                Take That                     NaN   \n",
       "4286                  NaN                      NaN                     NaN   \n",
       "5316        Modular Board   Variable Player Powers                     NaN   \n",
       "10934    Paper-and-Pencil                      NaN                     NaN   \n",
       "18748        Dice Rolling  Point to Point Movement                     NaN   \n",
       "...                   ...                      ...                     ...   \n",
       "208364               Deck                      Bag       and Pool Building   \n",
       "213437               Deck                      Bag       and Pool Building   \n",
       "232945       Dice Rolling  Point to Point Movement  Variable Player Powers   \n",
       "242684       Dice Rolling                   Follow          Set Collection   \n",
       "249821   Cooperative Game           Push Your Luck                     NaN   \n",
       "\n",
       "               Mechanic_5  \n",
       "game_id                    \n",
       "669                   NaN  \n",
       "4286                  NaN  \n",
       "5316                  NaN  \n",
       "10934                 NaN  \n",
       "18748                 NaN  \n",
       "...                   ...  \n",
       "208364    Hand Management  \n",
       "213437                NaN  \n",
       "232945                NaN  \n",
       "242684   Worker Placement  \n",
       "249821                NaN  \n",
       "\n",
       "[61 rows x 25 columns]"
      ]
     },
     "execution_count": 20,
     "metadata": {},
     "output_type": "execute_result"
    }
   ],
   "source": [
    "#Looking at web site, age = 0 just means not provided by publisher\n",
    "df[df['age'] == 0]"
   ]
  },
  {
   "cell_type": "code",
   "execution_count": 21,
   "id": "spread-review",
   "metadata": {},
   "outputs": [
    {
     "data": {
      "text/plain": [
       "61"
      ]
     },
     "execution_count": 21,
     "metadata": {},
     "output_type": "execute_result"
    }
   ],
   "source": [
    "#a non trivial amount. Could just drop, though\n",
    "(df['age'] == 0).sum()"
   ]
  },
  {
   "cell_type": "code",
   "execution_count": 22,
   "id": "caring-analysis",
   "metadata": {},
   "outputs": [
    {
     "data": {
      "text/plain": [
       "1.280167890870934"
      ]
     },
     "execution_count": 22,
     "metadata": {},
     "output_type": "execute_result"
    }
   ],
   "source": [
    "#OK. Less than 1.5%. Maybe we could just drop them.\n",
    "61/4765*100"
   ]
  },
  {
   "cell_type": "code",
   "execution_count": 23,
   "id": "dried-musical",
   "metadata": {},
   "outputs": [],
   "source": [
    "#can we correlate 0 age to weight?\n",
    "dfage=df[df['age'] == 0]\n",
    "dfage = dfage[['age', 'weight']]"
   ]
  },
  {
   "cell_type": "code",
   "execution_count": 24,
   "id": "casual-athletics",
   "metadata": {},
   "outputs": [
    {
     "data": {
      "text/html": [
       "<div>\n",
       "<style scoped>\n",
       "    .dataframe tbody tr th:only-of-type {\n",
       "        vertical-align: middle;\n",
       "    }\n",
       "\n",
       "    .dataframe tbody tr th {\n",
       "        vertical-align: top;\n",
       "    }\n",
       "\n",
       "    .dataframe thead th {\n",
       "        text-align: right;\n",
       "    }\n",
       "</style>\n",
       "<table border=\"1\" class=\"dataframe\">\n",
       "  <thead>\n",
       "    <tr style=\"text-align: right;\">\n",
       "      <th></th>\n",
       "      <th>age</th>\n",
       "      <th>weight</th>\n",
       "    </tr>\n",
       "  </thead>\n",
       "  <tbody>\n",
       "    <tr>\n",
       "      <th>count</th>\n",
       "      <td>61.0</td>\n",
       "      <td>61.000000</td>\n",
       "    </tr>\n",
       "    <tr>\n",
       "      <th>mean</th>\n",
       "      <td>0.0</td>\n",
       "      <td>2.522103</td>\n",
       "    </tr>\n",
       "    <tr>\n",
       "      <th>std</th>\n",
       "      <td>0.0</td>\n",
       "      <td>0.725791</td>\n",
       "    </tr>\n",
       "    <tr>\n",
       "      <th>min</th>\n",
       "      <td>0.0</td>\n",
       "      <td>1.113000</td>\n",
       "    </tr>\n",
       "    <tr>\n",
       "      <th>25%</th>\n",
       "      <td>0.0</td>\n",
       "      <td>2.036400</td>\n",
       "    </tr>\n",
       "    <tr>\n",
       "      <th>50%</th>\n",
       "      <td>0.0</td>\n",
       "      <td>2.473700</td>\n",
       "    </tr>\n",
       "    <tr>\n",
       "      <th>75%</th>\n",
       "      <td>0.0</td>\n",
       "      <td>3.000000</td>\n",
       "    </tr>\n",
       "    <tr>\n",
       "      <th>max</th>\n",
       "      <td>0.0</td>\n",
       "      <td>4.034800</td>\n",
       "    </tr>\n",
       "  </tbody>\n",
       "</table>\n",
       "</div>"
      ],
      "text/plain": [
       "        age     weight\n",
       "count  61.0  61.000000\n",
       "mean    0.0   2.522103\n",
       "std     0.0   0.725791\n",
       "min     0.0   1.113000\n",
       "25%     0.0   2.036400\n",
       "50%     0.0   2.473700\n",
       "75%     0.0   3.000000\n",
       "max     0.0   4.034800"
      ]
     },
     "execution_count": 24,
     "metadata": {},
     "output_type": "execute_result"
    }
   ],
   "source": [
    "#Not really. Weight scale is from 1 to 5.\n",
    "dfage.describe()"
   ]
  },
  {
   "cell_type": "code",
   "execution_count": 25,
   "id": "ranging-techno",
   "metadata": {},
   "outputs": [],
   "source": [
    "#just drop them if we want minimum age to be a relevant factor\n",
    "df = df.drop(dfage.index, axis = 0)"
   ]
  },
  {
   "cell_type": "code",
   "execution_count": 26,
   "id": "independent-camping",
   "metadata": {},
   "outputs": [
    {
     "data": {
      "text/plain": [
       "count    4704.000000\n",
       "mean       10.802509\n",
       "std         2.459432\n",
       "min         2.000000\n",
       "25%         8.000000\n",
       "50%        10.000000\n",
       "75%        13.000000\n",
       "max        18.000000\n",
       "Name: age, dtype: float64"
      ]
     },
     "execution_count": 26,
     "metadata": {},
     "output_type": "execute_result"
    }
   ],
   "source": [
    "df['age'].describe()"
   ]
  },
  {
   "cell_type": "code",
   "execution_count": 27,
   "id": "sunrise-pharmacology",
   "metadata": {},
   "outputs": [
    {
     "data": {
      "text/plain": [
       "<AxesSubplot:xlabel='year', ylabel='Count'>"
      ]
     },
     "execution_count": 27,
     "metadata": {},
     "output_type": "execute_result"
    },
    {
     "data": {
      "image/png": "[encoded data removed]",
      "text/plain": [
       "<Figure size 432x288 with 1 Axes>"
      ]
     },
     "metadata": {
      "needs_background": "light"
     },
     "output_type": "display_data"
    }
   ],
   "source": [
    "sns.histplot(data = df['year'])"
   ]
  },
  {
   "cell_type": "code",
   "execution_count": 28,
   "id": "bottom-latex",
   "metadata": {},
   "outputs": [
    {
     "data": {
      "text/plain": [
       "count    4704.000000\n",
       "mean     1997.550808\n",
       "std       168.934733\n",
       "min     -3500.000000\n",
       "25%      2004.000000\n",
       "50%      2011.000000\n",
       "75%      2015.000000\n",
       "max      2020.000000\n",
       "Name: year, dtype: float64"
      ]
     },
     "execution_count": 28,
     "metadata": {},
     "output_type": "execute_result"
    }
   ],
   "source": [
    "df['year'].describe()"
   ]
  },
  {
   "cell_type": "code",
   "execution_count": 29,
   "id": "intended-portuguese",
   "metadata": {},
   "outputs": [
    {
     "data": {
      "text/plain": [
       "array([-3500, -3000, -2200, -1400, -1300,  -200,     0,   400,   700,\n",
       "         762,  1150,  1430,  1475,  1500,  1530,  1587,  1600,  1630,\n",
       "        1687,  1700,  1701,  1750,  1796,  1800,  1810,  1848,  1850,\n",
       "        1864,  1874,  1876,  1883,  1887,  1888,  1893,  1895,  1903,\n",
       "        1906,  1908,  1909,  1927,  1929,  1930,  1931,  1933,  1937,\n",
       "        1938,  1939,  1940,  1942,  1943,  1946,  1947,  1948,  1949,\n",
       "        1951,  1954,  1955,  1956,  1958,  1959,  1960,  1962,  1963,\n",
       "        1964,  1965,  1966,  1967,  1968,  1969,  1970,  1971,  1972,\n",
       "        1973,  1974,  1975,  1976,  1977,  1978,  1979,  1980,  1981,\n",
       "        1982,  1983,  1984,  1985,  1986,  1987,  1988,  1989,  1990,\n",
       "        1991,  1992,  1993,  1994,  1995,  1996,  1997,  1998,  1999,\n",
       "        2000,  2001,  2002,  2003,  2004,  2005,  2006,  2007,  2008,\n",
       "        2009,  2010,  2011,  2012,  2013,  2014,  2015,  2016,  2017,\n",
       "        2018,  2019,  2020], dtype=int64)"
      ]
     },
     "execution_count": 29,
     "metadata": {},
     "output_type": "execute_result"
    }
   ],
   "source": [
    "df['year'].sort_values().unique()"
   ]
  },
  {
   "cell_type": "code",
   "execution_count": 30,
   "id": "arabic-signal",
   "metadata": {},
   "outputs": [
    {
     "data": {
      "text/plain": [
       "<AxesSubplot:ylabel='Count'>"
      ]
     },
     "execution_count": 30,
     "metadata": {},
     "output_type": "execute_result"
    },
    {
     "data": {
      "image/png": "[encoded data removed]",
      "text/plain": [
       "<Figure size 432x288 with 1 Axes>"
      ]
     },
     "metadata": {
      "needs_background": "light"
     },
     "output_type": "display_data"
    }
   ],
   "source": [
    "dfy = pd.DataFrame(df['year'])\n",
    "dfy2 = dfy[dfy['year'] > 1900]\n",
    "sns.histplot(dfy2)"
   ]
  },
  {
   "cell_type": "code",
   "execution_count": 31,
   "id": "radical-thing",
   "metadata": {},
   "outputs": [
    {
     "data": {
      "text/plain": [
       "year    4659\n",
       "dtype: int64"
      ]
     },
     "execution_count": 31,
     "metadata": {},
     "output_type": "execute_result"
    }
   ],
   "source": [
    "dfy[dfy['year']>1900].count()"
   ]
  },
  {
   "cell_type": "code",
   "execution_count": 32,
   "id": "young-developer",
   "metadata": {},
   "outputs": [
    {
     "data": {
      "text/plain": [
       "year    74\n",
       "dtype: int64"
      ]
     },
     "execution_count": 32,
     "metadata": {},
     "output_type": "execute_result"
    }
   ],
   "source": [
    "dfy[dfy['year']<1960].count()"
   ]
  },
  {
   "cell_type": "code",
   "execution_count": 33,
   "id": "stylish-advertiser",
   "metadata": {},
   "outputs": [
    {
     "data": {
      "text/html": [
       "<div>\n",
       "<style scoped>\n",
       "    .dataframe tbody tr th:only-of-type {\n",
       "        vertical-align: middle;\n",
       "    }\n",
       "\n",
       "    .dataframe tbody tr th {\n",
       "        vertical-align: top;\n",
       "    }\n",
       "\n",
       "    .dataframe thead th {\n",
       "        text-align: right;\n",
       "    }\n",
       "</style>\n",
       "<table border=\"1\" class=\"dataframe\">\n",
       "  <thead>\n",
       "    <tr style=\"text-align: right;\">\n",
       "      <th></th>\n",
       "      <th>min_players</th>\n",
       "      <th>max_players</th>\n",
       "      <th>avg_time</th>\n",
       "      <th>year</th>\n",
       "      <th>avg_rating</th>\n",
       "      <th>geek_rating</th>\n",
       "      <th>num_votes</th>\n",
       "      <th>age</th>\n",
       "      <th>owned</th>\n",
       "      <th>weight</th>\n",
       "    </tr>\n",
       "  </thead>\n",
       "  <tbody>\n",
       "    <tr>\n",
       "      <th>count</th>\n",
       "      <td>4630.000000</td>\n",
       "      <td>4630.000000</td>\n",
       "      <td>4630.000000</td>\n",
       "      <td>4630.000000</td>\n",
       "      <td>4630.000000</td>\n",
       "      <td>4630.000000</td>\n",
       "      <td>4630.000000</td>\n",
       "      <td>4630.000000</td>\n",
       "      <td>4630.000000</td>\n",
       "      <td>4630.000000</td>\n",
       "    </tr>\n",
       "    <tr>\n",
       "      <th>mean</th>\n",
       "      <td>1.999136</td>\n",
       "      <td>5.457451</td>\n",
       "      <td>83.016465</td>\n",
       "      <td>2008.392009</td>\n",
       "      <td>6.966894</td>\n",
       "      <td>6.258314</td>\n",
       "      <td>3087.955508</td>\n",
       "      <td>10.858963</td>\n",
       "      <td>5288.644276</td>\n",
       "      <td>2.278022</td>\n",
       "    </tr>\n",
       "    <tr>\n",
       "      <th>std</th>\n",
       "      <td>0.699658</td>\n",
       "      <td>7.024371</td>\n",
       "      <td>250.067805</td>\n",
       "      <td>10.061053</td>\n",
       "      <td>0.739821</td>\n",
       "      <td>0.529486</td>\n",
       "      <td>6112.668181</td>\n",
       "      <td>2.420251</td>\n",
       "      <td>8625.648781</td>\n",
       "      <td>0.774208</td>\n",
       "    </tr>\n",
       "    <tr>\n",
       "      <th>min</th>\n",
       "      <td>1.000000</td>\n",
       "      <td>1.000000</td>\n",
       "      <td>1.000000</td>\n",
       "      <td>1960.000000</td>\n",
       "      <td>3.331770</td>\n",
       "      <td>4.272580</td>\n",
       "      <td>500.000000</td>\n",
       "      <td>2.000000</td>\n",
       "      <td>263.000000</td>\n",
       "      <td>1.000000</td>\n",
       "    </tr>\n",
       "    <tr>\n",
       "      <th>25%</th>\n",
       "      <td>2.000000</td>\n",
       "      <td>4.000000</td>\n",
       "      <td>30.000000</td>\n",
       "      <td>2005.000000</td>\n",
       "      <td>6.496457</td>\n",
       "      <td>5.880187</td>\n",
       "      <td>751.000000</td>\n",
       "      <td>9.000000</td>\n",
       "      <td>1634.000000</td>\n",
       "      <td>1.680100</td>\n",
       "    </tr>\n",
       "    <tr>\n",
       "      <th>50%</th>\n",
       "      <td>2.000000</td>\n",
       "      <td>5.000000</td>\n",
       "      <td>60.000000</td>\n",
       "      <td>2011.000000</td>\n",
       "      <td>6.971080</td>\n",
       "      <td>6.169290</td>\n",
       "      <td>1249.000000</td>\n",
       "      <td>11.000000</td>\n",
       "      <td>2794.000000</td>\n",
       "      <td>2.222200</td>\n",
       "    </tr>\n",
       "    <tr>\n",
       "      <th>75%</th>\n",
       "      <td>2.000000</td>\n",
       "      <td>6.000000</td>\n",
       "      <td>90.000000</td>\n",
       "      <td>2015.000000</td>\n",
       "      <td>7.487145</td>\n",
       "      <td>6.560507</td>\n",
       "      <td>2679.750000</td>\n",
       "      <td>13.000000</td>\n",
       "      <td>5402.750000</td>\n",
       "      <td>2.787725</td>\n",
       "    </tr>\n",
       "    <tr>\n",
       "      <th>max</th>\n",
       "      <td>8.000000</td>\n",
       "      <td>100.000000</td>\n",
       "      <td>12000.000000</td>\n",
       "      <td>2020.000000</td>\n",
       "      <td>9.186900</td>\n",
       "      <td>8.576860</td>\n",
       "      <td>93524.000000</td>\n",
       "      <td>18.000000</td>\n",
       "      <td>139881.000000</td>\n",
       "      <td>4.723300</td>\n",
       "    </tr>\n",
       "  </tbody>\n",
       "</table>\n",
       "</div>"
      ],
      "text/plain": [
       "       min_players  max_players      avg_time         year   avg_rating  \\\n",
       "count  4630.000000  4630.000000   4630.000000  4630.000000  4630.000000   \n",
       "mean      1.999136     5.457451     83.016465  2008.392009     6.966894   \n",
       "std       0.699658     7.024371    250.067805    10.061053     0.739821   \n",
       "min       1.000000     1.000000      1.000000  1960.000000     3.331770   \n",
       "25%       2.000000     4.000000     30.000000  2005.000000     6.496457   \n",
       "50%       2.000000     5.000000     60.000000  2011.000000     6.971080   \n",
       "75%       2.000000     6.000000     90.000000  2015.000000     7.487145   \n",
       "max       8.000000   100.000000  12000.000000  2020.000000     9.186900   \n",
       "\n",
       "       geek_rating     num_votes          age          owned       weight  \n",
       "count  4630.000000   4630.000000  4630.000000    4630.000000  4630.000000  \n",
       "mean      6.258314   3087.955508    10.858963    5288.644276     2.278022  \n",
       "std       0.529486   6112.668181     2.420251    8625.648781     0.774208  \n",
       "min       4.272580    500.000000     2.000000     263.000000     1.000000  \n",
       "25%       5.880187    751.000000     9.000000    1634.000000     1.680100  \n",
       "50%       6.169290   1249.000000    11.000000    2794.000000     2.222200  \n",
       "75%       6.560507   2679.750000    13.000000    5402.750000     2.787725  \n",
       "max       8.576860  93524.000000    18.000000  139881.000000     4.723300  "
      ]
     },
     "execution_count": 33,
     "metadata": {},
     "output_type": "execute_result"
    }
   ],
   "source": [
    "#limit examination to only more modern games\n",
    "#will define that as games released since 1960\n",
    "dfy2 = dfy[dfy['year'] < 1960]\n",
    "df = df.drop(dfy2.index, axis = 0)\n",
    "df.describe()"
   ]
  },
  {
   "cell_type": "code",
   "execution_count": 34,
   "id": "deluxe-longer",
   "metadata": {},
   "outputs": [],
   "source": [
    "#sns.pairplot(df)"
   ]
  },
  {
   "cell_type": "code",
   "execution_count": 35,
   "id": "taken-bottom",
   "metadata": {},
   "outputs": [],
   "source": [
    "#sns.heatmap(df.corr())"
   ]
  },
  {
   "cell_type": "markdown",
   "id": "comic-stadium",
   "metadata": {},
   "source": [
    "### Observations\n",
    "\n",
    "##### Number of votes highly correlated with number of users who own the game. Makes sense.\n",
    "##### Number of votes also associated with \"geek rating.\" Makes sense because Geek Rating is a Bayesian average.\n",
    "##### Number owned is correlated with both ratings. Makes sense that people would vote for stuff they own.\n",
    "##### Average playing time and \"weight\" are correlated. Makes sense. Longer games are weightier.\n",
    "##### Recommended age and wieght are correlated because games for kids are less weighty.\n",
    "#####  Average rating and min age may be correlated. Do people like games that can be played with their kids?"
   ]
  },
  {
   "cell_type": "code",
   "execution_count": 36,
   "id": "stable-cliff",
   "metadata": {},
   "outputs": [],
   "source": [
    "import statsmodels.api as sm\n",
    "from sklearn.model_selection import train_test_split\n",
    "from sklearn import linear_model, preprocessing"
   ]
  },
  {
   "cell_type": "code",
   "execution_count": 37,
   "id": "wound-validity",
   "metadata": {},
   "outputs": [],
   "source": [
    "#df = pd.get_dummies(df)\n",
    "#doing this leads to 8807 columns and OLS dies. Need to be more clever about categories.\n"
   ]
  },
  {
   "cell_type": "code",
   "execution_count": 38,
   "id": "institutional-sharp",
   "metadata": {},
   "outputs": [],
   "source": [
    "#dropping expansions and just looking at original games\n",
    "df = df[df['expands'] == 'Nothing']"
   ]
  },
  {
   "cell_type": "code",
   "execution_count": 39,
   "id": "classical-tribune",
   "metadata": {},
   "outputs": [
    {
     "name": "stdout",
     "output_type": "stream",
     "text": [
      "<class 'pandas.core.frame.DataFrame'>\n",
      "Int64Index: 3836 entries, 1 to 287954\n",
      "Data columns (total 25 columns):\n",
      " #   Column       Non-Null Count  Dtype  \n",
      "---  ------       --------------  -----  \n",
      " 0   names        3836 non-null   object \n",
      " 1   min_players  3836 non-null   int64  \n",
      " 2   max_players  3836 non-null   int64  \n",
      " 3   avg_time     3836 non-null   float64\n",
      " 4   year         3836 non-null   int64  \n",
      " 5   avg_rating   3836 non-null   float64\n",
      " 6   geek_rating  3836 non-null   float64\n",
      " 7   num_votes    3836 non-null   float64\n",
      " 8   age          3836 non-null   int64  \n",
      " 9   mechanic     3836 non-null   object \n",
      " 10  owned        3836 non-null   int64  \n",
      " 11  category     3836 non-null   object \n",
      " 12  designer     3836 non-null   object \n",
      " 13  publisher    3836 non-null   object \n",
      " 14  weight       3836 non-null   float64\n",
      " 15  expands      3836 non-null   object \n",
      " 16  Category_1   3836 non-null   object \n",
      " 17  Category_2   3214 non-null   object \n",
      " 18  Category_3   2111 non-null   object \n",
      " 19  Category_4   1098 non-null   object \n",
      " 20  Mechanic_1   3836 non-null   object \n",
      " 21  Mechanic_2   3355 non-null   object \n",
      " 22  Mechanic_3   2595 non-null   object \n",
      " 23  Mechanic_4   1789 non-null   object \n",
      " 24  Mechanic_5   1135 non-null   object \n",
      "dtypes: float64(5), int64(5), object(15)\n",
      "memory usage: 779.2+ KB\n"
     ]
    }
   ],
   "source": [
    "df.info()"
   ]
  },
  {
   "cell_type": "code",
   "execution_count": 59,
   "id": "lyric-progress",
   "metadata": {},
   "outputs": [],
   "source": [
    "#create clean DF for regression with no categoricals\n",
    "df2 = df.drop(['names', 'designer', 'publisher', 'expands'], axis = 1)"
   ]
  },
  {
   "cell_type": "code",
   "execution_count": 45,
   "id": "amazing-saturday",
   "metadata": {},
   "outputs": [],
   "source": [
    "dfexpandsC = df.iloc[:, 16:20]"
   ]
  },
  {
   "cell_type": "code",
   "execution_count": 47,
   "id": "threaded-adapter",
   "metadata": {},
   "outputs": [],
   "source": [
    "dfexpandsM = df.iloc[:, 20:]"
   ]
  },
  {
   "cell_type": "code",
   "execution_count": 43,
   "id": "tough-bacon",
   "metadata": {
    "scrolled": true
   },
   "outputs": [],
   "source": [
    "Cats = df2['Category_1'].unique()"
   ]
  },
  {
   "cell_type": "code",
   "execution_count": 65,
   "id": "differential-measure",
   "metadata": {
    "scrolled": true
   },
   "outputs": [],
   "source": [
    "for catg in range(len(Cats)):\n",
    "    df2[Cats[catg]] = df2['category'].str.contains(Cats[catg]).astype(int)\n"
   ]
  },
  {
   "cell_type": "code",
   "execution_count": null,
   "id": "special-preservation",
   "metadata": {},
   "outputs": [],
   "source": [
    "Mechs = df2['Mechanic_1']"
   ]
  },
  {
   "cell_type": "code",
   "execution_count": 90,
   "id": "proper-anxiety",
   "metadata": {},
   "outputs": [
    {
     "data": {
      "text/plain": [
       "game_id\n",
       "1                        [Economic, Negotiation, Political]\n",
       "2                                      [Card Game, Fantasy]\n",
       "3                             [Abstract Strategy, Medieval]\n",
       "5                                                [Economic]\n",
       "7                                       [Abstract Strategy]\n",
       "                                ...                        \n",
       "285265                                            [Fantasy]\n",
       "285774    [Card Game, Collectible Components, Comic Book...\n",
       "285984                        [Fantasy, Fighting, Medieval]\n",
       "286096                                       [Civilization]\n",
       "287954                                  [Abstract Strategy]\n",
       "Name: category, Length: 3836, dtype: object"
      ]
     },
     "execution_count": 90,
     "metadata": {},
     "output_type": "execute_result"
    }
   ],
   "source": [
    "Cats2 = df2['category'].str.split(pat=', ', expand=False)\n",
    "Cats2"
   ]
  },
  {
   "cell_type": "code",
   "execution_count": 91,
   "id": "solar-twist",
   "metadata": {},
   "outputs": [
    {
     "ename": "AttributeError",
     "evalue": "'DataFrame' object has no attribute 'unique'",
     "output_type": "error",
     "traceback": [
      "\u001b[1;31m---------------------------------------------------------------------------\u001b[0m",
      "\u001b[1;31mAttributeError\u001b[0m                            Traceback (most recent call last)",
      "\u001b[1;32m<ipython-input-91-0d09aefa8976>\u001b[0m in \u001b[0;36m<module>\u001b[1;34m\u001b[0m\n\u001b[1;32m----> 1\u001b[1;33m \u001b[0mdfexpandsC\u001b[0m\u001b[1;33m.\u001b[0m\u001b[0munique\u001b[0m\u001b[1;33m(\u001b[0m\u001b[1;33m)\u001b[0m\u001b[1;33m\u001b[0m\u001b[1;33m\u001b[0m\u001b[0m\n\u001b[0m",
      "\u001b[1;32mD:\\anac\\lib\\site-packages\\pandas\\core\\generic.py\u001b[0m in \u001b[0;36m__getattr__\u001b[1;34m(self, name)\u001b[0m\n\u001b[0;32m   5460\u001b[0m             \u001b[1;32mif\u001b[0m \u001b[0mself\u001b[0m\u001b[1;33m.\u001b[0m\u001b[0m_info_axis\u001b[0m\u001b[1;33m.\u001b[0m\u001b[0m_can_hold_identifiers_and_holds_name\u001b[0m\u001b[1;33m(\u001b[0m\u001b[0mname\u001b[0m\u001b[1;33m)\u001b[0m\u001b[1;33m:\u001b[0m\u001b[1;33m\u001b[0m\u001b[1;33m\u001b[0m\u001b[0m\n\u001b[0;32m   5461\u001b[0m                 \u001b[1;32mreturn\u001b[0m \u001b[0mself\u001b[0m\u001b[1;33m[\u001b[0m\u001b[0mname\u001b[0m\u001b[1;33m]\u001b[0m\u001b[1;33m\u001b[0m\u001b[1;33m\u001b[0m\u001b[0m\n\u001b[1;32m-> 5462\u001b[1;33m             \u001b[1;32mreturn\u001b[0m \u001b[0mobject\u001b[0m\u001b[1;33m.\u001b[0m\u001b[0m__getattribute__\u001b[0m\u001b[1;33m(\u001b[0m\u001b[0mself\u001b[0m\u001b[1;33m,\u001b[0m \u001b[0mname\u001b[0m\u001b[1;33m)\u001b[0m\u001b[1;33m\u001b[0m\u001b[1;33m\u001b[0m\u001b[0m\n\u001b[0m\u001b[0;32m   5463\u001b[0m \u001b[1;33m\u001b[0m\u001b[0m\n\u001b[0;32m   5464\u001b[0m     \u001b[1;32mdef\u001b[0m \u001b[0m__setattr__\u001b[0m\u001b[1;33m(\u001b[0m\u001b[0mself\u001b[0m\u001b[1;33m,\u001b[0m \u001b[0mname\u001b[0m\u001b[1;33m:\u001b[0m \u001b[0mstr\u001b[0m\u001b[1;33m,\u001b[0m \u001b[0mvalue\u001b[0m\u001b[1;33m)\u001b[0m \u001b[1;33m->\u001b[0m \u001b[1;32mNone\u001b[0m\u001b[1;33m:\u001b[0m\u001b[1;33m\u001b[0m\u001b[1;33m\u001b[0m\u001b[0m\n",
      "\u001b[1;31mAttributeError\u001b[0m: 'DataFrame' object has no attribute 'unique'"
     ]
    }
   ],
   "source": [
    "dfexpandsC.unique()"
   ]
  },
  {
   "cell_type": "code",
   "execution_count": 76,
   "id": "blessed-gather",
   "metadata": {},
   "outputs": [
    {
     "ename": "NameError",
     "evalue": "name 'intertools' is not defined",
     "output_type": "error",
     "traceback": [
      "\u001b[1;31m---------------------------------------------------------------------------\u001b[0m",
      "\u001b[1;31mNameError\u001b[0m                                 Traceback (most recent call last)",
      "\u001b[1;32m<ipython-input-76-f820ebee5dec>\u001b[0m in \u001b[0;36m<module>\u001b[1;34m\u001b[0m\n\u001b[1;32m----> 1\u001b[1;33m \u001b[0mCats4\u001b[0m \u001b[1;33m=\u001b[0m \u001b[0mintertools\u001b[0m\u001b[1;33m.\u001b[0m\u001b[0mchain\u001b[0m\u001b[1;33m.\u001b[0m\u001b[0mfrom_iterable\u001b[0m\u001b[1;33m(\u001b[0m\u001b[0mCats3\u001b[0m\u001b[1;33m)\u001b[0m\u001b[1;33m\u001b[0m\u001b[1;33m\u001b[0m\u001b[0m\n\u001b[0m",
      "\u001b[1;31mNameError\u001b[0m: name 'intertools' is not defined"
     ]
    }
   ],
   "source": []
  },
  {
   "cell_type": "code",
   "execution_count": null,
   "id": "defensive-slave",
   "metadata": {},
   "outputs": [],
   "source": []
  },
  {
   "cell_type": "code",
   "execution_count": null,
   "id": "executive-dancing",
   "metadata": {},
   "outputs": [],
   "source": []
  },
  {
   "cell_type": "code",
   "execution_count": null,
   "id": "uniform-deposit",
   "metadata": {},
   "outputs": [],
   "source": [
    "X = df.drop(['avg_rating', 'geek_rating'], axis = 1)\n",
    "y1 = df['avg_rating']\n",
    "y2 = ['geek_rating']\n",
    "X = sm.add_constant(X)"
   ]
  },
  {
   "cell_type": "code",
   "execution_count": null,
   "id": "adjusted-genesis",
   "metadata": {},
   "outputs": [],
   "source": [
    "rModel1 = sm.OLS(y1, X)"
   ]
  },
  {
   "cell_type": "code",
   "execution_count": null,
   "id": "loving-poison",
   "metadata": {},
   "outputs": [],
   "source": [
    "rModel1_result = rModel1.fit()"
   ]
  },
  {
   "cell_type": "code",
   "execution_count": null,
   "id": "healthy-catering",
   "metadata": {},
   "outputs": [],
   "source": [
    "rModel1_result.summary()"
   ]
  }
 ],
 "metadata": {
  "kernelspec": {
   "display_name": "Python 3",
   "language": "python",
   "name": "python3"
  },
  "language_info": {
   "codemirror_mode": {
    "name": "ipython",
    "version": 3
   },
   "file_extension": ".py",
   "mimetype": "text/x-python",
   "name": "python",
   "nbconvert_exporter": "python",
   "pygments_lexer": "ipython3",
   "version": "3.8.5"
  }
 },
 "nbformat": 4,
 "nbformat_minor": 5
}
